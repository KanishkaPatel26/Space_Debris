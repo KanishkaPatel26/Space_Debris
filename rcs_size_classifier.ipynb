{
  "cells": [
    {
      "cell_type": "code",
      "execution_count": 1,
      "metadata": {
        "id": "R7LLPBaQRTn4"
      },
      "outputs": [],
      "source": [
        "import pandas as pd\n",
        "import numpy as np\n",
        "from sklearn.preprocessing import StandardScaler\n",
        "import matplotlib.pyplot as plt\n",
        "from sklearn.decomposition import PCA\n",
        "from sklearn.preprocessing import StandardScaler\n",
        "from sklearn.cluster import KMeans\n",
        "from sklearn.model_selection import train_test_split\n",
        "from sklearn.metrics import accuracy_score, classification_report, confusion_matrix, roc_curve, roc_auc_score\n",
        "from sklearn.linear_model import LogisticRegression\n",
        "from sklearn.ensemble import RandomForestClassifier, GradientBoostingClassifier\n",
        "from sklearn.svm import SVC\n",
        "import seaborn as sns\n",
        "from sklearn.model_selection import GridSearchCV\n",
        "from sklearn.metrics import accuracy_score, classification_report, confusion_matrix\n",
        "from sklearn.ensemble import RandomForestClassifier\n",
        "from sklearn.feature_selection import SelectKBest\n",
        "from sklearn.feature_selection import chi2\n",
        "from sklearn.preprocessing import MinMaxScaler\n",
        "import joblib"
      ]
    },
    {
      "cell_type": "code",
      "execution_count": 2,
      "metadata": {
        "id": "VtZEKRaURU_2"
      },
      "outputs": [],
      "source": [
        "dataframe = pd.read_csv('space_decay.csv')"
      ]
    },
    {
      "cell_type": "code",
      "execution_count": 3,
      "metadata": {
        "colab": {
          "base_uri": "https://localhost:8080/",
          "height": 335
        },
        "id": "Z1ocqCgwRZ6Q",
        "outputId": "4ba93deb-882b-42b7-fec7-0d8efbf0bef9"
      },
      "outputs": [
        {
          "data": {
            "text/html": [
              "<div>\n",
              "<style scoped>\n",
              "    .dataframe tbody tr th:only-of-type {\n",
              "        vertical-align: middle;\n",
              "    }\n",
              "\n",
              "    .dataframe tbody tr th {\n",
              "        vertical-align: top;\n",
              "    }\n",
              "\n",
              "    .dataframe thead th {\n",
              "        text-align: right;\n",
              "    }\n",
              "</style>\n",
              "<table border=\"1\" class=\"dataframe\">\n",
              "  <thead>\n",
              "    <tr style=\"text-align: right;\">\n",
              "      <th></th>\n",
              "      <th>CCSDS_OMM_VERS</th>\n",
              "      <th>COMMENT</th>\n",
              "      <th>CREATION_DATE</th>\n",
              "      <th>ORIGINATOR</th>\n",
              "      <th>OBJECT_NAME</th>\n",
              "      <th>OBJECT_ID</th>\n",
              "      <th>CENTER_NAME</th>\n",
              "      <th>REF_FRAME</th>\n",
              "      <th>TIME_SYSTEM</th>\n",
              "      <th>MEAN_ELEMENT_THEORY</th>\n",
              "      <th>...</th>\n",
              "      <th>RCS_SIZE</th>\n",
              "      <th>COUNTRY_CODE</th>\n",
              "      <th>LAUNCH_DATE</th>\n",
              "      <th>SITE</th>\n",
              "      <th>DECAY_DATE</th>\n",
              "      <th>FILE</th>\n",
              "      <th>GP_ID</th>\n",
              "      <th>TLE_LINE0</th>\n",
              "      <th>TLE_LINE1</th>\n",
              "      <th>TLE_LINE2</th>\n",
              "    </tr>\n",
              "  </thead>\n",
              "  <tbody>\n",
              "    <tr>\n",
              "      <th>0</th>\n",
              "      <td>2</td>\n",
              "      <td>GENERATED VIA SPACE-TRACK.ORG API</td>\n",
              "      <td>2021-11-01T06:46:11</td>\n",
              "      <td>18 SPCS</td>\n",
              "      <td>ARIANE 42P+ DEB</td>\n",
              "      <td>1992-072J</td>\n",
              "      <td>EARTH</td>\n",
              "      <td>TEME</td>\n",
              "      <td>UTC</td>\n",
              "      <td>SGP4</td>\n",
              "      <td>...</td>\n",
              "      <td>MEDIUM</td>\n",
              "      <td>FR</td>\n",
              "      <td>1992.0</td>\n",
              "      <td>FRGUI</td>\n",
              "      <td>NaN</td>\n",
              "      <td>3195178</td>\n",
              "      <td>188614016</td>\n",
              "      <td>0 ARIANE 42P+ DEB</td>\n",
              "      <td>1 26741U 92072J   21304.94919376  .00000883  0...</td>\n",
              "      <td>2 26741   7.7156  90.2410 6528926 243.1216  38...</td>\n",
              "    </tr>\n",
              "    <tr>\n",
              "      <th>1</th>\n",
              "      <td>2</td>\n",
              "      <td>GENERATED VIA SPACE-TRACK.ORG API</td>\n",
              "      <td>2021-11-01T04:58:37</td>\n",
              "      <td>18 SPCS</td>\n",
              "      <td>SL-8 DEB</td>\n",
              "      <td>1979-028C</td>\n",
              "      <td>EARTH</td>\n",
              "      <td>TEME</td>\n",
              "      <td>UTC</td>\n",
              "      <td>SGP4</td>\n",
              "      <td>...</td>\n",
              "      <td>SMALL</td>\n",
              "      <td>CIS</td>\n",
              "      <td>1979.0</td>\n",
              "      <td>PKMTR</td>\n",
              "      <td>NaN</td>\n",
              "      <td>3194950</td>\n",
              "      <td>188593285</td>\n",
              "      <td>0 SL-8 DEB</td>\n",
              "      <td>1 26743U 79028C   21304.68908982  .00000079  0...</td>\n",
              "      <td>2 26743  82.9193 299.1120 0030720 158.9093 201...</td>\n",
              "    </tr>\n",
              "  </tbody>\n",
              "</table>\n",
              "<p>2 rows × 40 columns</p>\n",
              "</div>"
            ],
            "text/plain": [
              "   CCSDS_OMM_VERS                            COMMENT        CREATION_DATE  \\\n",
              "0               2  GENERATED VIA SPACE-TRACK.ORG API  2021-11-01T06:46:11   \n",
              "1               2  GENERATED VIA SPACE-TRACK.ORG API  2021-11-01T04:58:37   \n",
              "\n",
              "  ORIGINATOR      OBJECT_NAME  OBJECT_ID CENTER_NAME REF_FRAME TIME_SYSTEM  \\\n",
              "0    18 SPCS  ARIANE 42P+ DEB  1992-072J       EARTH      TEME         UTC   \n",
              "1    18 SPCS         SL-8 DEB  1979-028C       EARTH      TEME         UTC   \n",
              "\n",
              "  MEAN_ELEMENT_THEORY  ... RCS_SIZE  COUNTRY_CODE  LAUNCH_DATE   SITE  \\\n",
              "0                SGP4  ...   MEDIUM            FR       1992.0  FRGUI   \n",
              "1                SGP4  ...    SMALL           CIS       1979.0  PKMTR   \n",
              "\n",
              "   DECAY_DATE     FILE      GP_ID          TLE_LINE0  \\\n",
              "0         NaN  3195178  188614016  0 ARIANE 42P+ DEB   \n",
              "1         NaN  3194950  188593285         0 SL-8 DEB   \n",
              "\n",
              "                                           TLE_LINE1  \\\n",
              "0  1 26741U 92072J   21304.94919376  .00000883  0...   \n",
              "1  1 26743U 79028C   21304.68908982  .00000079  0...   \n",
              "\n",
              "                                           TLE_LINE2  \n",
              "0  2 26741   7.7156  90.2410 6528926 243.1216  38...  \n",
              "1  2 26743  82.9193 299.1120 0030720 158.9093 201...  \n",
              "\n",
              "[2 rows x 40 columns]"
            ]
          },
          "execution_count": 3,
          "metadata": {},
          "output_type": "execute_result"
        }
      ],
      "source": [
        "dataframe.head(2)"
      ]
    },
    {
      "cell_type": "code",
      "execution_count": 4,
      "metadata": {
        "colab": {
          "base_uri": "https://localhost:8080/"
        },
        "id": "UVOTkylvBtZY",
        "outputId": "7c6f1d1e-c606-4150-915a-453f4d6b0d73"
      },
      "outputs": [
        {
          "data": {
            "text/plain": [
              "(14372, 40)"
            ]
          },
          "execution_count": 4,
          "metadata": {},
          "output_type": "execute_result"
        }
      ],
      "source": [
        "dataframe.shape"
      ]
    },
    {
      "cell_type": "code",
      "execution_count": 5,
      "metadata": {
        "colab": {
          "base_uri": "https://localhost:8080/"
        },
        "id": "15Idd-MzBwUo",
        "outputId": "2fc9ef15-7009-4ecd-ddf9-2eb7a5e51036"
      },
      "outputs": [
        {
          "data": {
            "text/plain": [
              "CCSDS_OMM_VERS           int64\n",
              "COMMENT                 object\n",
              "CREATION_DATE           object\n",
              "ORIGINATOR              object\n",
              "OBJECT_NAME             object\n",
              "OBJECT_ID               object\n",
              "CENTER_NAME             object\n",
              "REF_FRAME               object\n",
              "TIME_SYSTEM             object\n",
              "MEAN_ELEMENT_THEORY     object\n",
              "EPOCH                   object\n",
              "MEAN_MOTION            float64\n",
              "ECCENTRICITY           float64\n",
              "INCLINATION            float64\n",
              "RA_OF_ASC_NODE         float64\n",
              "ARG_OF_PERICENTER      float64\n",
              "MEAN_ANOMALY           float64\n",
              "EPHEMERIS_TYPE           int64\n",
              "CLASSIFICATION_TYPE     object\n",
              "NORAD_CAT_ID             int64\n",
              "ELEMENT_SET_NO           int64\n",
              "REV_AT_EPOCH             int64\n",
              "BSTAR                  float64\n",
              "MEAN_MOTION_DOT        float64\n",
              "MEAN_MOTION_DDOT       float64\n",
              "SEMIMAJOR_AXIS         float64\n",
              "PERIOD                 float64\n",
              "APOAPSIS               float64\n",
              "PERIAPSIS              float64\n",
              "OBJECT_TYPE             object\n",
              "RCS_SIZE                object\n",
              "COUNTRY_CODE            object\n",
              "LAUNCH_DATE            float64\n",
              "SITE                    object\n",
              "DECAY_DATE             float64\n",
              "FILE                     int64\n",
              "GP_ID                    int64\n",
              "TLE_LINE0               object\n",
              "TLE_LINE1               object\n",
              "TLE_LINE2               object\n",
              "dtype: object"
            ]
          },
          "execution_count": 5,
          "metadata": {},
          "output_type": "execute_result"
        }
      ],
      "source": [
        "dataframe.dtypes"
      ]
    },
    {
      "cell_type": "code",
      "execution_count": 6,
      "metadata": {
        "colab": {
          "base_uri": "https://localhost:8080/"
        },
        "id": "ExeskYJaB1lg",
        "outputId": "58175a63-1f0c-4e50-fe05-2350fbcf7f1a"
      },
      "outputs": [
        {
          "data": {
            "text/plain": [
              "CCSDS_OMM_VERS             0\n",
              "COMMENT                    0\n",
              "CREATION_DATE              0\n",
              "ORIGINATOR                 0\n",
              "OBJECT_NAME                0\n",
              "OBJECT_ID                 39\n",
              "CENTER_NAME                0\n",
              "REF_FRAME                  0\n",
              "TIME_SYSTEM                0\n",
              "MEAN_ELEMENT_THEORY        0\n",
              "EPOCH                      0\n",
              "MEAN_MOTION                0\n",
              "ECCENTRICITY               0\n",
              "INCLINATION                0\n",
              "RA_OF_ASC_NODE             0\n",
              "ARG_OF_PERICENTER          0\n",
              "MEAN_ANOMALY               0\n",
              "EPHEMERIS_TYPE             0\n",
              "CLASSIFICATION_TYPE        0\n",
              "NORAD_CAT_ID               0\n",
              "ELEMENT_SET_NO             0\n",
              "REV_AT_EPOCH               0\n",
              "BSTAR                      0\n",
              "MEAN_MOTION_DOT            0\n",
              "MEAN_MOTION_DDOT           0\n",
              "SEMIMAJOR_AXIS             0\n",
              "PERIOD                     0\n",
              "APOAPSIS                   0\n",
              "PERIAPSIS                  0\n",
              "OBJECT_TYPE                0\n",
              "RCS_SIZE                 198\n",
              "COUNTRY_CODE              39\n",
              "LAUNCH_DATE               39\n",
              "SITE                      39\n",
              "DECAY_DATE             14372\n",
              "FILE                       0\n",
              "GP_ID                      0\n",
              "TLE_LINE0                  0\n",
              "TLE_LINE1                  0\n",
              "TLE_LINE2                  0\n",
              "dtype: int64"
            ]
          },
          "execution_count": 6,
          "metadata": {},
          "output_type": "execute_result"
        }
      ],
      "source": [
        "dataframe.isna().sum()"
      ]
    },
    {
      "cell_type": "code",
      "execution_count": 7,
      "metadata": {
        "id": "odC1MLfrB5V2"
      },
      "outputs": [],
      "source": [
        "dataframe = dataframe.drop(columns = ['DECAY_DATE'])"
      ]
    },
    {
      "cell_type": "code",
      "execution_count": 8,
      "metadata": {
        "colab": {
          "base_uri": "https://localhost:8080/"
        },
        "id": "AJCFnhScCYw7",
        "outputId": "bbbfb508-a33e-41a7-ed77-d008b62a5361"
      },
      "outputs": [
        {
          "data": {
            "text/plain": [
              "array(['MEDIUM', 'SMALL', 'LARGE', nan], dtype=object)"
            ]
          },
          "execution_count": 8,
          "metadata": {},
          "output_type": "execute_result"
        }
      ],
      "source": [
        "dataframe['RCS_SIZE'].unique()"
      ]
    },
    {
      "cell_type": "code",
      "execution_count": 9,
      "metadata": {
        "id": "fjPRRmNICi-J"
      },
      "outputs": [],
      "source": [
        "dataframe = dataframe[dataframe['RCS_SIZE'].notna()]"
      ]
    },
    {
      "cell_type": "code",
      "execution_count": 10,
      "metadata": {
        "colab": {
          "base_uri": "https://localhost:8080/"
        },
        "id": "_j6kMnX2CrO-",
        "outputId": "45887628-35e3-4a06-a640-54ebd378e71f"
      },
      "outputs": [
        {
          "data": {
            "text/plain": [
              "CCSDS_OMM_VERS           int64\n",
              "COMMENT                 object\n",
              "CREATION_DATE           object\n",
              "ORIGINATOR              object\n",
              "OBJECT_NAME             object\n",
              "OBJECT_ID               object\n",
              "CENTER_NAME             object\n",
              "REF_FRAME               object\n",
              "TIME_SYSTEM             object\n",
              "MEAN_ELEMENT_THEORY     object\n",
              "EPOCH                   object\n",
              "MEAN_MOTION            float64\n",
              "ECCENTRICITY           float64\n",
              "INCLINATION            float64\n",
              "RA_OF_ASC_NODE         float64\n",
              "ARG_OF_PERICENTER      float64\n",
              "MEAN_ANOMALY           float64\n",
              "EPHEMERIS_TYPE           int64\n",
              "CLASSIFICATION_TYPE     object\n",
              "NORAD_CAT_ID             int64\n",
              "ELEMENT_SET_NO           int64\n",
              "REV_AT_EPOCH             int64\n",
              "BSTAR                  float64\n",
              "MEAN_MOTION_DOT        float64\n",
              "MEAN_MOTION_DDOT       float64\n",
              "SEMIMAJOR_AXIS         float64\n",
              "PERIOD                 float64\n",
              "APOAPSIS               float64\n",
              "PERIAPSIS              float64\n",
              "OBJECT_TYPE             object\n",
              "RCS_SIZE                object\n",
              "COUNTRY_CODE            object\n",
              "LAUNCH_DATE            float64\n",
              "SITE                    object\n",
              "FILE                     int64\n",
              "GP_ID                    int64\n",
              "TLE_LINE0               object\n",
              "TLE_LINE1               object\n",
              "TLE_LINE2               object\n",
              "dtype: object"
            ]
          },
          "execution_count": 10,
          "metadata": {},
          "output_type": "execute_result"
        }
      ],
      "source": [
        "dataframe.dtypes"
      ]
    },
    {
      "cell_type": "code",
      "execution_count": 11,
      "metadata": {
        "colab": {
          "base_uri": "https://localhost:8080/",
          "height": 300
        },
        "id": "bXHtw8zfHvZD",
        "outputId": "cd6e4daa-bc72-410e-87df-82fbf37ad433"
      },
      "outputs": [
        {
          "data": {
            "text/html": [
              "<div>\n",
              "<style scoped>\n",
              "    .dataframe tbody tr th:only-of-type {\n",
              "        vertical-align: middle;\n",
              "    }\n",
              "\n",
              "    .dataframe tbody tr th {\n",
              "        vertical-align: top;\n",
              "    }\n",
              "\n",
              "    .dataframe thead th {\n",
              "        text-align: right;\n",
              "    }\n",
              "</style>\n",
              "<table border=\"1\" class=\"dataframe\">\n",
              "  <thead>\n",
              "    <tr style=\"text-align: right;\">\n",
              "      <th></th>\n",
              "      <th>ECCENTRICITY</th>\n",
              "      <th>INCLINATION</th>\n",
              "      <th>SEMIMAJOR_AXIS</th>\n",
              "    </tr>\n",
              "  </thead>\n",
              "  <tbody>\n",
              "    <tr>\n",
              "      <th>count</th>\n",
              "      <td>14174.000000</td>\n",
              "      <td>14174.000000</td>\n",
              "      <td>14174.000000</td>\n",
              "    </tr>\n",
              "    <tr>\n",
              "      <th>mean</th>\n",
              "      <td>0.063655</td>\n",
              "      <td>75.050788</td>\n",
              "      <td>10381.409239</td>\n",
              "    </tr>\n",
              "    <tr>\n",
              "      <th>std</th>\n",
              "      <td>0.178477</td>\n",
              "      <td>29.024966</td>\n",
              "      <td>8856.388961</td>\n",
              "    </tr>\n",
              "    <tr>\n",
              "      <th>min</th>\n",
              "      <td>0.000005</td>\n",
              "      <td>0.001400</td>\n",
              "      <td>6542.850000</td>\n",
              "    </tr>\n",
              "    <tr>\n",
              "      <th>25%</th>\n",
              "      <td>0.000701</td>\n",
              "      <td>53.055600</td>\n",
              "      <td>6953.224000</td>\n",
              "    </tr>\n",
              "    <tr>\n",
              "      <th>50%</th>\n",
              "      <td>0.003314</td>\n",
              "      <td>86.392850</td>\n",
              "      <td>7174.004000</td>\n",
              "    </tr>\n",
              "    <tr>\n",
              "      <th>75%</th>\n",
              "      <td>0.012941</td>\n",
              "      <td>98.578300</td>\n",
              "      <td>7433.195250</td>\n",
              "    </tr>\n",
              "    <tr>\n",
              "      <th>max</th>\n",
              "      <td>0.897218</td>\n",
              "      <td>144.586200</td>\n",
              "      <td>182331.558000</td>\n",
              "    </tr>\n",
              "  </tbody>\n",
              "</table>\n",
              "</div>"
            ],
            "text/plain": [
              "       ECCENTRICITY   INCLINATION  SEMIMAJOR_AXIS\n",
              "count  14174.000000  14174.000000    14174.000000\n",
              "mean       0.063655     75.050788    10381.409239\n",
              "std        0.178477     29.024966     8856.388961\n",
              "min        0.000005      0.001400     6542.850000\n",
              "25%        0.000701     53.055600     6953.224000\n",
              "50%        0.003314     86.392850     7174.004000\n",
              "75%        0.012941     98.578300     7433.195250\n",
              "max        0.897218    144.586200   182331.558000"
            ]
          },
          "execution_count": 11,
          "metadata": {},
          "output_type": "execute_result"
        }
      ],
      "source": [
        "    # eccentricity = row['ECCENTRICITY']\n",
        "    # inclination = row['INCLINATION']\n",
        "    # semi_major_axis = row['SEMIMAJOR_AXIS']\n",
        "\n",
        "dataframe[['ECCENTRICITY' , 'INCLINATION' , 'SEMIMAJOR_AXIS']].describe()"
      ]
    },
    {
      "cell_type": "markdown",
      "metadata": {
        "id": "ZLlwzSpyIcGp"
      },
      "source": [
        "https://space.stackexchange.com/questions/23450/determine-orbit-type-from-tle#:~:text=We%20can%20use%20the%20following,35%2C786km).\n"
      ]
    },
    {
      "cell_type": "code",
      "execution_count": 12,
      "metadata": {
        "id": "2pfs--zrDGWo"
      },
      "outputs": [],
      "source": [
        "def categorize_orbit(row):\n",
        "    eccentricity = row['ECCENTRICITY']\n",
        "    mean_motion = row['MEAN_MOTION']\n",
        "    period = row['PERIOD']\n",
        "\n",
        "    if eccentricity > 0.25:\n",
        "        return 'HEO'  # Highly Elliptical Orbit\n",
        "    elif (0.99 <= mean_motion <= 1.01) and eccentricity < 0.01:\n",
        "        return 'GEO'  # Geostationary Orbit\n",
        "    elif (600 <= period <= 800) and eccentricity < 0.25:\n",
        "        return 'MEO'  # Medium Earth Orbit\n",
        "    elif mean_motion > 11.25 and eccentricity < 0.25:\n",
        "        return 'LEO'  # Low Earth Orbit\n",
        "    else:\n",
        "        return 'Other'\n",
        "\n",
        "dataframe['ORBIT_TYPE'] = dataframe.apply(categorize_orbit, axis=1)"
      ]
    },
    {
      "cell_type": "code",
      "execution_count": 13,
      "metadata": {
        "colab": {
          "base_uri": "https://localhost:8080/"
        },
        "id": "3WhfSe3cG46q",
        "outputId": "c480e1b8-6fa8-4043-c496-2e1229c726e2"
      },
      "outputs": [
        {
          "data": {
            "text/plain": [
              "array(['HEO', 'LEO', 'Other', 'GEO', 'MEO'], dtype=object)"
            ]
          },
          "execution_count": 13,
          "metadata": {},
          "output_type": "execute_result"
        }
      ],
      "source": [
        "dataframe['ORBIT_TYPE'].unique()"
      ]
    },
    {
      "cell_type": "code",
      "execution_count": 14,
      "metadata": {
        "colab": {
          "base_uri": "https://localhost:8080/"
        },
        "id": "F_E5KwM1G_6G",
        "outputId": "d7caf89d-9c04-4bc2-9029-f0f6c379e504"
      },
      "outputs": [
        {
          "name": "stdout",
          "output_type": "stream",
          "text": [
            "10160\n",
            "50240\n",
            "478200\n",
            "21760\n",
            "6600\n"
          ]
        }
      ],
      "source": [
        "print(dataframe[dataframe['ORBIT_TYPE'] == 'Other'].count().sum())\n",
        "print(dataframe[dataframe['ORBIT_TYPE'] == 'HEO'].count().sum())\n",
        "print(dataframe[dataframe['ORBIT_TYPE'] == 'LEO'].count().sum())\n",
        "print(dataframe[dataframe['ORBIT_TYPE'] == 'GEO'].count().sum())\n",
        "print(dataframe[dataframe['ORBIT_TYPE'] == 'MEO'].count().sum())"
      ]
    },
    {
      "cell_type": "code",
      "execution_count": 15,
      "metadata": {
        "id": "0DbNomgoKRSH"
      },
      "outputs": [],
      "source": [
        "dataframe['CURRENT_YEAR'] = 2023\n",
        "dataframe[\"OBJECT_AGE\"] = dataframe.CURRENT_YEAR - dataframe.LAUNCH_DATE\n",
        "\n",
        "dataframe.RCS_SIZE = dataframe.RCS_SIZE.map({'SMALL':1, 'MEDIUM':2, 'LARGE':3})\n",
        "\n",
        "dataframe['ORBIT_TYPE_MAPPED'] = dataframe.ORBIT_TYPE.map({'Other':0, 'HEO':1, 'LEO':2, 'GEO':3, 'MEO':4})"
      ]
    },
    {
      "cell_type": "code",
      "execution_count": null,
      "metadata": {
        "colab": {
          "base_uri": "https://localhost:8080/",
          "height": 417
        },
        "id": "Qoz8SWKEHTlO",
        "outputId": "dff2018c-de67-4e4e-a2da-228ec74848cf"
      },
      "outputs": [
        {
          "ename": "ValueError",
          "evalue": "could not convert string to float: 'HEO'",
          "output_type": "error",
          "traceback": [
            "\u001b[1;31m---------------------------------------------------------------------------\u001b[0m",
            "\u001b[1;31mValueError\u001b[0m                                Traceback (most recent call last)",
            "Cell \u001b[1;32mIn[16], line 3\u001b[0m\n\u001b[0;32m      1\u001b[0m dataframe[[\u001b[38;5;124m\"\u001b[39m\u001b[38;5;124mOBJECT_AGE\u001b[39m\u001b[38;5;124m\"\u001b[39m,\u001b[38;5;124m\"\u001b[39m\u001b[38;5;124mRCS_SIZE\u001b[39m\u001b[38;5;124m\"\u001b[39m,\u001b[38;5;124m\"\u001b[39m\u001b[38;5;124mAPOAPSIS\u001b[39m\u001b[38;5;124m\"\u001b[39m,\u001b[38;5;124m\"\u001b[39m\u001b[38;5;124mPERIAPSIS\u001b[39m\u001b[38;5;124m\"\u001b[39m,\u001b[38;5;124m\"\u001b[39m\u001b[38;5;124mMEAN_ANOMALY\u001b[39m\u001b[38;5;124m\"\u001b[39m,\u001b[38;5;124m\"\u001b[39m\u001b[38;5;124mMEAN_MOTION\u001b[39m\u001b[38;5;124m\"\u001b[39m,\n\u001b[0;32m      2\u001b[0m            \u001b[38;5;124m\"\u001b[39m\u001b[38;5;124mINCLINATION\u001b[39m\u001b[38;5;124m\"\u001b[39m,\u001b[38;5;124m\"\u001b[39m\u001b[38;5;124mPERIOD\u001b[39m\u001b[38;5;124m\"\u001b[39m,\u001b[38;5;124m\"\u001b[39m\u001b[38;5;124mECCENTRICITY\u001b[39m\u001b[38;5;124m\"\u001b[39m,\u001b[38;5;124m\"\u001b[39m\u001b[38;5;124mORBIT_TYPE\u001b[39m\u001b[38;5;124m\"\u001b[39m\n\u001b[1;32m----> 3\u001b[0m            ,\u001b[38;5;124m\"\u001b[39m\u001b[38;5;124mORBIT_TYPE_MAPPED\u001b[39m\u001b[38;5;124m\"\u001b[39m]]\u001b[38;5;241m.\u001b[39mcorr()\u001b[38;5;241m.\u001b[39mstyle\u001b[38;5;241m.\u001b[39mbackground_gradient()\n",
            "File \u001b[1;32m~\\AppData\\Roaming\\Python\\Python311\\site-packages\\pandas\\core\\frame.py:10707\u001b[0m, in \u001b[0;36mDataFrame.corr\u001b[1;34m(self, method, min_periods, numeric_only)\u001b[0m\n\u001b[0;32m  10705\u001b[0m cols \u001b[38;5;241m=\u001b[39m data\u001b[38;5;241m.\u001b[39mcolumns\n\u001b[0;32m  10706\u001b[0m idx \u001b[38;5;241m=\u001b[39m cols\u001b[38;5;241m.\u001b[39mcopy()\n\u001b[1;32m> 10707\u001b[0m mat \u001b[38;5;241m=\u001b[39m data\u001b[38;5;241m.\u001b[39mto_numpy(dtype\u001b[38;5;241m=\u001b[39m\u001b[38;5;28mfloat\u001b[39m, na_value\u001b[38;5;241m=\u001b[39mnp\u001b[38;5;241m.\u001b[39mnan, copy\u001b[38;5;241m=\u001b[39m\u001b[38;5;28;01mFalse\u001b[39;00m)\n\u001b[0;32m  10709\u001b[0m \u001b[38;5;28;01mif\u001b[39;00m method \u001b[38;5;241m==\u001b[39m \u001b[38;5;124m\"\u001b[39m\u001b[38;5;124mpearson\u001b[39m\u001b[38;5;124m\"\u001b[39m:\n\u001b[0;32m  10710\u001b[0m     correl \u001b[38;5;241m=\u001b[39m libalgos\u001b[38;5;241m.\u001b[39mnancorr(mat, minp\u001b[38;5;241m=\u001b[39mmin_periods)\n",
            "File \u001b[1;32m~\\AppData\\Roaming\\Python\\Python311\\site-packages\\pandas\\core\\frame.py:1892\u001b[0m, in \u001b[0;36mDataFrame.to_numpy\u001b[1;34m(self, dtype, copy, na_value)\u001b[0m\n\u001b[0;32m   1890\u001b[0m \u001b[38;5;28;01mif\u001b[39;00m dtype \u001b[38;5;129;01mis\u001b[39;00m \u001b[38;5;129;01mnot\u001b[39;00m \u001b[38;5;28;01mNone\u001b[39;00m:\n\u001b[0;32m   1891\u001b[0m     dtype \u001b[38;5;241m=\u001b[39m np\u001b[38;5;241m.\u001b[39mdtype(dtype)\n\u001b[1;32m-> 1892\u001b[0m result \u001b[38;5;241m=\u001b[39m \u001b[38;5;28mself\u001b[39m\u001b[38;5;241m.\u001b[39m_mgr\u001b[38;5;241m.\u001b[39mas_array(dtype\u001b[38;5;241m=\u001b[39mdtype, copy\u001b[38;5;241m=\u001b[39mcopy, na_value\u001b[38;5;241m=\u001b[39mna_value)\n\u001b[0;32m   1893\u001b[0m \u001b[38;5;28;01mif\u001b[39;00m result\u001b[38;5;241m.\u001b[39mdtype \u001b[38;5;129;01mis\u001b[39;00m \u001b[38;5;129;01mnot\u001b[39;00m dtype:\n\u001b[0;32m   1894\u001b[0m     result \u001b[38;5;241m=\u001b[39m np\u001b[38;5;241m.\u001b[39marray(result, dtype\u001b[38;5;241m=\u001b[39mdtype, copy\u001b[38;5;241m=\u001b[39m\u001b[38;5;28;01mFalse\u001b[39;00m)\n",
            "File \u001b[1;32m~\\AppData\\Roaming\\Python\\Python311\\site-packages\\pandas\\core\\internals\\managers.py:1656\u001b[0m, in \u001b[0;36mBlockManager.as_array\u001b[1;34m(self, dtype, copy, na_value)\u001b[0m\n\u001b[0;32m   1654\u001b[0m         arr\u001b[38;5;241m.\u001b[39mflags\u001b[38;5;241m.\u001b[39mwriteable \u001b[38;5;241m=\u001b[39m \u001b[38;5;28;01mFalse\u001b[39;00m\n\u001b[0;32m   1655\u001b[0m \u001b[38;5;28;01melse\u001b[39;00m:\n\u001b[1;32m-> 1656\u001b[0m     arr \u001b[38;5;241m=\u001b[39m \u001b[38;5;28mself\u001b[39m\u001b[38;5;241m.\u001b[39m_interleave(dtype\u001b[38;5;241m=\u001b[39mdtype, na_value\u001b[38;5;241m=\u001b[39mna_value)\n\u001b[0;32m   1657\u001b[0m     \u001b[38;5;66;03m# The underlying data was copied within _interleave, so no need\u001b[39;00m\n\u001b[0;32m   1658\u001b[0m     \u001b[38;5;66;03m# to further copy if copy=True or setting na_value\u001b[39;00m\n\u001b[0;32m   1660\u001b[0m \u001b[38;5;28;01mif\u001b[39;00m na_value \u001b[38;5;129;01mis\u001b[39;00m lib\u001b[38;5;241m.\u001b[39mno_default:\n",
            "File \u001b[1;32m~\\AppData\\Roaming\\Python\\Python311\\site-packages\\pandas\\core\\internals\\managers.py:1715\u001b[0m, in \u001b[0;36mBlockManager._interleave\u001b[1;34m(self, dtype, na_value)\u001b[0m\n\u001b[0;32m   1713\u001b[0m     \u001b[38;5;28;01melse\u001b[39;00m:\n\u001b[0;32m   1714\u001b[0m         arr \u001b[38;5;241m=\u001b[39m blk\u001b[38;5;241m.\u001b[39mget_values(dtype)\n\u001b[1;32m-> 1715\u001b[0m     result[rl\u001b[38;5;241m.\u001b[39mindexer] \u001b[38;5;241m=\u001b[39m arr\n\u001b[0;32m   1716\u001b[0m     itemmask[rl\u001b[38;5;241m.\u001b[39mindexer] \u001b[38;5;241m=\u001b[39m \u001b[38;5;241m1\u001b[39m\n\u001b[0;32m   1718\u001b[0m \u001b[38;5;28;01mif\u001b[39;00m \u001b[38;5;129;01mnot\u001b[39;00m itemmask\u001b[38;5;241m.\u001b[39mall():\n",
            "\u001b[1;31mValueError\u001b[0m: could not convert string to float: 'HEO'"
          ]
        }
      ],
      "source": [
        "dataframe[[\"OBJECT_AGE\",\"RCS_SIZE\",\"APOAPSIS\",\"PERIAPSIS\",\"MEAN_ANOMALY\",\"MEAN_MOTION\",\n",
        "           \"INCLINATION\",\"PERIOD\",\"ECCENTRICITY\",\"ORBIT_TYPE\"\n",
        "           ,\"ORBIT_TYPE_MAPPED\"]].corr().style.background_gradient()"
      ]
    },
    {
      "cell_type": "code",
      "execution_count": null,
      "metadata": {
        "id": "rBiGDEZ_ZilK"
      },
      "outputs": [],
      "source": [
        "# numeric_columns = dataframe.select_dtypes(include=['int64', 'float64'])\n",
        "\n",
        "# numeric_columns = numeric_columns.drop(['ORBIT_TYPE_MAPPED'], axis=1)\n",
        "\n",
        "# numeric_columns = numeric_columns.abs()\n",
        "\n",
        "# X = numeric_columns.drop('RCS_SIZE', axis=1)\n",
        "# y = dataframe['RCS_SIZE']\n",
        "\n",
        "# scaler = MinMaxScaler()\n",
        "# X_scaled = scaler.fit_transform(X)\n",
        "\n",
        "# best_features = SelectKBest(score_func=chi2, k='all')\n",
        "# fit = best_features.fit(X_scaled, y)\n",
        "\n",
        "# feature_scores = pd.DataFrame({'Feature': X.columns, 'Score': fit.scores_})\n",
        "# best_features = feature_scores.nlargest(10, 'Score')\n",
        "\n",
        "# print(best_features)"
      ]
    },
    {
      "cell_type": "code",
      "execution_count": 17,
      "metadata": {
        "id": "58GzT2hYJ5F4"
      },
      "outputs": [],
      "source": [
        "finalAnalysisColumns = [\n",
        "\"OBJECT_AGE\",\n",
        "\"RCS_SIZE\",\n",
        "\"APOAPSIS\",\n",
        "\"PERIAPSIS\",\n",
        "\"MEAN_ANOMALY\",\n",
        "\"MEAN_MOTION\",\n",
        "\"INCLINATION\",\n",
        "\"PERIOD\",\n",
        "\"ECCENTRICITY\",\n",
        "\"ORBIT_TYPE_MAPPED\"]\n",
        "\n",
        "columnsForSize = [\"OBJECT_AGE\",\"APOAPSIS\",\"PERIAPSIS\",\"PERIOD\",\"ECCENTRICITY\"]"
      ]
    },
    {
      "cell_type": "code",
      "execution_count": 18,
      "metadata": {
        "id": "0XKBDo3aL8P4"
      },
      "outputs": [],
      "source": [
        "dataframe = dataframe[finalAnalysisColumns]"
      ]
    },
    {
      "cell_type": "code",
      "execution_count": 19,
      "metadata": {
        "colab": {
          "base_uri": "https://localhost:8080/",
          "height": 206
        },
        "id": "WdB7hHvhMtFb",
        "outputId": "7e4db865-afe7-4d43-ea8b-7c5ff5337cf7"
      },
      "outputs": [
        {
          "data": {
            "text/html": [
              "<div>\n",
              "<style scoped>\n",
              "    .dataframe tbody tr th:only-of-type {\n",
              "        vertical-align: middle;\n",
              "    }\n",
              "\n",
              "    .dataframe tbody tr th {\n",
              "        vertical-align: top;\n",
              "    }\n",
              "\n",
              "    .dataframe thead th {\n",
              "        text-align: right;\n",
              "    }\n",
              "</style>\n",
              "<table border=\"1\" class=\"dataframe\">\n",
              "  <thead>\n",
              "    <tr style=\"text-align: right;\">\n",
              "      <th></th>\n",
              "      <th>OBJECT_AGE</th>\n",
              "      <th>RCS_SIZE</th>\n",
              "      <th>APOAPSIS</th>\n",
              "      <th>PERIAPSIS</th>\n",
              "      <th>MEAN_ANOMALY</th>\n",
              "      <th>MEAN_MOTION</th>\n",
              "      <th>INCLINATION</th>\n",
              "      <th>PERIOD</th>\n",
              "      <th>ECCENTRICITY</th>\n",
              "      <th>ORBIT_TYPE_MAPPED</th>\n",
              "    </tr>\n",
              "  </thead>\n",
              "  <tbody>\n",
              "    <tr>\n",
              "      <th>0</th>\n",
              "      <td>31.0</td>\n",
              "      <td>2</td>\n",
              "      <td>27784.871</td>\n",
              "      <td>796.095</td>\n",
              "      <td>38.7796</td>\n",
              "      <td>2.921700</td>\n",
              "      <td>7.7156</td>\n",
              "      <td>492.864</td>\n",
              "      <td>0.652893</td>\n",
              "      <td>1</td>\n",
              "    </tr>\n",
              "    <tr>\n",
              "      <th>1</th>\n",
              "      <td>44.0</td>\n",
              "      <td>1</td>\n",
              "      <td>1002.507</td>\n",
              "      <td>957.299</td>\n",
              "      <td>201.3337</td>\n",
              "      <td>13.754973</td>\n",
              "      <td>82.9193</td>\n",
              "      <td>104.689</td>\n",
              "      <td>0.003072</td>\n",
              "      <td>2</td>\n",
              "    </tr>\n",
              "    <tr>\n",
              "      <th>2</th>\n",
              "      <td>22.0</td>\n",
              "      <td>3</td>\n",
              "      <td>35797.696</td>\n",
              "      <td>33841.738</td>\n",
              "      <td>146.2900</td>\n",
              "      <td>1.038224</td>\n",
              "      <td>12.1717</td>\n",
              "      <td>1386.984</td>\n",
              "      <td>0.023739</td>\n",
              "      <td>0</td>\n",
              "    </tr>\n",
              "    <tr>\n",
              "      <th>3</th>\n",
              "      <td>24.0</td>\n",
              "      <td>1</td>\n",
              "      <td>679.465</td>\n",
              "      <td>594.417</td>\n",
              "      <td>323.1632</td>\n",
              "      <td>14.775907</td>\n",
              "      <td>98.4781</td>\n",
              "      <td>97.456</td>\n",
              "      <td>0.006062</td>\n",
              "      <td>2</td>\n",
              "    </tr>\n",
              "    <tr>\n",
              "      <th>4</th>\n",
              "      <td>24.0</td>\n",
              "      <td>1</td>\n",
              "      <td>697.039</td>\n",
              "      <td>609.491</td>\n",
              "      <td>27.6061</td>\n",
              "      <td>14.724482</td>\n",
              "      <td>98.4232</td>\n",
              "      <td>97.796</td>\n",
              "      <td>0.006226</td>\n",
              "      <td>2</td>\n",
              "    </tr>\n",
              "  </tbody>\n",
              "</table>\n",
              "</div>"
            ],
            "text/plain": [
              "   OBJECT_AGE  RCS_SIZE   APOAPSIS  PERIAPSIS  MEAN_ANOMALY  MEAN_MOTION  \\\n",
              "0        31.0         2  27784.871    796.095       38.7796     2.921700   \n",
              "1        44.0         1   1002.507    957.299      201.3337    13.754973   \n",
              "2        22.0         3  35797.696  33841.738      146.2900     1.038224   \n",
              "3        24.0         1    679.465    594.417      323.1632    14.775907   \n",
              "4        24.0         1    697.039    609.491       27.6061    14.724482   \n",
              "\n",
              "   INCLINATION    PERIOD  ECCENTRICITY  ORBIT_TYPE_MAPPED  \n",
              "0       7.7156   492.864      0.652893                  1  \n",
              "1      82.9193   104.689      0.003072                  2  \n",
              "2      12.1717  1386.984      0.023739                  0  \n",
              "3      98.4781    97.456      0.006062                  2  \n",
              "4      98.4232    97.796      0.006226                  2  "
            ]
          },
          "execution_count": 19,
          "metadata": {},
          "output_type": "execute_result"
        }
      ],
      "source": [
        "dataframe.head()"
      ]
    },
    {
      "cell_type": "code",
      "execution_count": null,
      "metadata": {
        "id": "Sc7FAE0dZfcr"
      },
      "outputs": [],
      "source": []
    },
    {
      "cell_type": "code",
      "execution_count": 20,
      "metadata": {
        "id": "aIHmk4ngNizD"
      },
      "outputs": [],
      "source": [
        "X = dataframe.drop(columns = ['RCS_SIZE','ORBIT_TYPE_MAPPED'], axis=1)\n",
        "y = dataframe['RCS_SIZE']\n",
        "\n",
        "X_train, X_test, y_train, y_test = train_test_split(X, y, test_size=0.2, random_state=42)"
      ]
    },
    {
      "cell_type": "code",
      "execution_count": 21,
      "metadata": {
        "colab": {
          "base_uri": "https://localhost:8080/",
          "height": 423
        },
        "id": "ORGhdbUvd-2q",
        "outputId": "e5a8ade2-bba3-4ae8-efa2-be939db56965"
      },
      "outputs": [
        {
          "data": {
            "text/html": [
              "<div>\n",
              "<style scoped>\n",
              "    .dataframe tbody tr th:only-of-type {\n",
              "        vertical-align: middle;\n",
              "    }\n",
              "\n",
              "    .dataframe tbody tr th {\n",
              "        vertical-align: top;\n",
              "    }\n",
              "\n",
              "    .dataframe thead th {\n",
              "        text-align: right;\n",
              "    }\n",
              "</style>\n",
              "<table border=\"1\" class=\"dataframe\">\n",
              "  <thead>\n",
              "    <tr style=\"text-align: right;\">\n",
              "      <th></th>\n",
              "      <th>OBJECT_AGE</th>\n",
              "      <th>APOAPSIS</th>\n",
              "      <th>PERIAPSIS</th>\n",
              "      <th>MEAN_ANOMALY</th>\n",
              "      <th>MEAN_MOTION</th>\n",
              "      <th>INCLINATION</th>\n",
              "      <th>PERIOD</th>\n",
              "      <th>ECCENTRICITY</th>\n",
              "    </tr>\n",
              "  </thead>\n",
              "  <tbody>\n",
              "    <tr>\n",
              "      <th>0</th>\n",
              "      <td>31.0</td>\n",
              "      <td>27784.871</td>\n",
              "      <td>796.095</td>\n",
              "      <td>38.7796</td>\n",
              "      <td>2.921700</td>\n",
              "      <td>7.7156</td>\n",
              "      <td>492.864</td>\n",
              "      <td>0.652893</td>\n",
              "    </tr>\n",
              "    <tr>\n",
              "      <th>1</th>\n",
              "      <td>44.0</td>\n",
              "      <td>1002.507</td>\n",
              "      <td>957.299</td>\n",
              "      <td>201.3337</td>\n",
              "      <td>13.754973</td>\n",
              "      <td>82.9193</td>\n",
              "      <td>104.689</td>\n",
              "      <td>0.003072</td>\n",
              "    </tr>\n",
              "    <tr>\n",
              "      <th>2</th>\n",
              "      <td>22.0</td>\n",
              "      <td>35797.696</td>\n",
              "      <td>33841.738</td>\n",
              "      <td>146.2900</td>\n",
              "      <td>1.038224</td>\n",
              "      <td>12.1717</td>\n",
              "      <td>1386.984</td>\n",
              "      <td>0.023739</td>\n",
              "    </tr>\n",
              "    <tr>\n",
              "      <th>3</th>\n",
              "      <td>24.0</td>\n",
              "      <td>679.465</td>\n",
              "      <td>594.417</td>\n",
              "      <td>323.1632</td>\n",
              "      <td>14.775907</td>\n",
              "      <td>98.4781</td>\n",
              "      <td>97.456</td>\n",
              "      <td>0.006062</td>\n",
              "    </tr>\n",
              "    <tr>\n",
              "      <th>4</th>\n",
              "      <td>24.0</td>\n",
              "      <td>697.039</td>\n",
              "      <td>609.491</td>\n",
              "      <td>27.6061</td>\n",
              "      <td>14.724482</td>\n",
              "      <td>98.4232</td>\n",
              "      <td>97.796</td>\n",
              "      <td>0.006226</td>\n",
              "    </tr>\n",
              "    <tr>\n",
              "      <th>...</th>\n",
              "      <td>...</td>\n",
              "      <td>...</td>\n",
              "      <td>...</td>\n",
              "      <td>...</td>\n",
              "      <td>...</td>\n",
              "      <td>...</td>\n",
              "      <td>...</td>\n",
              "      <td>...</td>\n",
              "    </tr>\n",
              "    <tr>\n",
              "      <th>14295</th>\n",
              "      <td>2.0</td>\n",
              "      <td>35226.188</td>\n",
              "      <td>246.490</td>\n",
              "      <td>209.6533</td>\n",
              "      <td>2.318388</td>\n",
              "      <td>5.9230</td>\n",
              "      <td>621.121</td>\n",
              "      <td>0.725284</td>\n",
              "    </tr>\n",
              "    <tr>\n",
              "      <th>14296</th>\n",
              "      <td>2.0</td>\n",
              "      <td>35102.192</td>\n",
              "      <td>236.603</td>\n",
              "      <td>223.6129</td>\n",
              "      <td>2.328075</td>\n",
              "      <td>5.7471</td>\n",
              "      <td>618.537</td>\n",
              "      <td>0.724931</td>\n",
              "    </tr>\n",
              "    <tr>\n",
              "      <th>14297</th>\n",
              "      <td>2.0</td>\n",
              "      <td>35904.963</td>\n",
              "      <td>32368.563</td>\n",
              "      <td>132.8297</td>\n",
              "      <td>1.064586</td>\n",
              "      <td>33.9986</td>\n",
              "      <td>1352.639</td>\n",
              "      <td>0.043643</td>\n",
              "    </tr>\n",
              "    <tr>\n",
              "      <th>14298</th>\n",
              "      <td>2.0</td>\n",
              "      <td>546.812</td>\n",
              "      <td>532.580</td>\n",
              "      <td>208.2856</td>\n",
              "      <td>15.088562</td>\n",
              "      <td>97.5434</td>\n",
              "      <td>95.437</td>\n",
              "      <td>0.001029</td>\n",
              "    </tr>\n",
              "    <tr>\n",
              "      <th>14332</th>\n",
              "      <td>2.0</td>\n",
              "      <td>422.640</td>\n",
              "      <td>417.486</td>\n",
              "      <td>26.9938</td>\n",
              "      <td>15.488596</td>\n",
              "      <td>51.6457</td>\n",
              "      <td>92.972</td>\n",
              "      <td>0.000379</td>\n",
              "    </tr>\n",
              "  </tbody>\n",
              "</table>\n",
              "<p>14174 rows × 8 columns</p>\n",
              "</div>"
            ],
            "text/plain": [
              "       OBJECT_AGE   APOAPSIS  PERIAPSIS  MEAN_ANOMALY  MEAN_MOTION  \\\n",
              "0            31.0  27784.871    796.095       38.7796     2.921700   \n",
              "1            44.0   1002.507    957.299      201.3337    13.754973   \n",
              "2            22.0  35797.696  33841.738      146.2900     1.038224   \n",
              "3            24.0    679.465    594.417      323.1632    14.775907   \n",
              "4            24.0    697.039    609.491       27.6061    14.724482   \n",
              "...           ...        ...        ...           ...          ...   \n",
              "14295         2.0  35226.188    246.490      209.6533     2.318388   \n",
              "14296         2.0  35102.192    236.603      223.6129     2.328075   \n",
              "14297         2.0  35904.963  32368.563      132.8297     1.064586   \n",
              "14298         2.0    546.812    532.580      208.2856    15.088562   \n",
              "14332         2.0    422.640    417.486       26.9938    15.488596   \n",
              "\n",
              "       INCLINATION    PERIOD  ECCENTRICITY  \n",
              "0           7.7156   492.864      0.652893  \n",
              "1          82.9193   104.689      0.003072  \n",
              "2          12.1717  1386.984      0.023739  \n",
              "3          98.4781    97.456      0.006062  \n",
              "4          98.4232    97.796      0.006226  \n",
              "...            ...       ...           ...  \n",
              "14295       5.9230   621.121      0.725284  \n",
              "14296       5.7471   618.537      0.724931  \n",
              "14297      33.9986  1352.639      0.043643  \n",
              "14298      97.5434    95.437      0.001029  \n",
              "14332      51.6457    92.972      0.000379  \n",
              "\n",
              "[14174 rows x 8 columns]"
            ]
          },
          "execution_count": 21,
          "metadata": {},
          "output_type": "execute_result"
        }
      ],
      "source": [
        "X"
      ]
    },
    {
      "cell_type": "code",
      "execution_count": 34,
      "metadata": {
        "colab": {
          "base_uri": "https://localhost:8080/"
        },
        "id": "xEfEjRg5Tm1r",
        "outputId": "b2fc5609-78a4-43ee-e8ab-14cc0223b20c"
      },
      "outputs": [
        {
          "name": "stdout",
          "output_type": "stream",
          "text": [
            "Best Parameters: {'max_depth': None, 'min_samples_leaf': 1, 'min_samples_split': 2, 'n_estimators': 300}\n",
            "Training Accuracy: 0.9998236176029632\n",
            "Test Accuracy: 0.9044091710758377\n",
            "\n",
            "Training Classification Report:\n",
            "              precision    recall  f1-score   support\n",
            "\n",
            "           1       1.00      1.00      1.00      6656\n",
            "           2       1.00      1.00      1.00      1304\n",
            "           3       1.00      1.00      1.00      3379\n",
            "\n",
            "    accuracy                           1.00     11339\n",
            "   macro avg       1.00      1.00      1.00     11339\n",
            "weighted avg       1.00      1.00      1.00     11339\n",
            "\n",
            "\n",
            "Test Classification Report:\n",
            "              precision    recall  f1-score   support\n",
            "\n",
            "           1       0.93      0.96      0.95      1690\n",
            "           2       0.72      0.59      0.65       335\n",
            "           3       0.91      0.92      0.91       810\n",
            "\n",
            "    accuracy                           0.90      2835\n",
            "   macro avg       0.85      0.82      0.84      2835\n",
            "weighted avg       0.90      0.90      0.90      2835\n",
            "\n",
            "\n",
            "Confusion Matrix - Test Set:\n",
            "[[1623   47   20]\n",
            " [  80  199   56]\n",
            " [  38   30  742]]\n"
          ]
        }
      ],
      "source": [
        "rf_classifier = RandomForestClassifier(random_state=42)\n",
        "\n",
        "param_grid = {\n",
        "    'n_estimators': [100, 200, 300],\n",
        "    'max_depth': [None, 5, 10, 15],\n",
        "    'min_samples_split': [2, 5, 10],\n",
        "    'min_samples_leaf': [1, 2, 4]\n",
        "}\n",
        "\n",
        "grid_search = GridSearchCV(rf_classifier, param_grid, cv=5, scoring='accuracy')\n",
        "grid_search.fit(X_train, y_train)\n",
        "\n",
        "best_params = grid_search.best_params_\n",
        "best_model = grid_search.best_estimator_\n",
        "\n",
        "y_train_pred = best_model.predict(X_train)\n",
        "y_test_pred = best_model.predict(X_test)\n",
        "\n",
        "train_accuracy = accuracy_score(y_train, y_train_pred)\n",
        "test_accuracy = accuracy_score(y_test, y_test_pred)\n",
        "\n",
        "print(\"Best Parameters:\", best_params)\n",
        "print(\"Training Accuracy:\", train_accuracy)\n",
        "print(\"Test Accuracy:\", test_accuracy)\n",
        "\n",
        "print(\"\\nTraining Classification Report:\")\n",
        "print(classification_report(y_train, y_train_pred))\n",
        "\n",
        "print(\"\\nTest Classification Report:\")\n",
        "print(classification_report(y_test, y_test_pred))\n",
        "\n",
        "conf_matrix_test = confusion_matrix(y_test, y_test_pred)\n",
        "print(\"\\nConfusion Matrix - Test Set:\")\n",
        "print(conf_matrix_test)"
      ]
    },
    {
      "cell_type": "code",
      "execution_count": null,
      "metadata": {
        "colab": {
          "base_uri": "https://localhost:8080/"
        },
        "id": "f9Zvw5OlTylp",
        "outputId": "0cc17716-b811-4aaa-c362-80c96d50c775"
      },
      "outputs": [
        {
          "data": {
            "text/plain": [
              "['rcs_size_classifier.pkl']"
            ]
          },
          "execution_count": 147,
          "metadata": {},
          "output_type": "execute_result"
        }
      ],
      "source": [
        "# joblib.dump(best_model, 'rcs_size_classifier.pkl')"
      ]
    },
    {
      "cell_type": "code",
      "execution_count": null,
      "metadata": {
        "colab": {
          "base_uri": "https://localhost:8080/"
        },
        "id": "5_m16djUeTM0",
        "outputId": "4b755304-e18d-492f-e572-4d50b68226b1"
      },
      "outputs": [
        {
          "name": "stdout",
          "output_type": "stream",
          "text": [
            "['LARGE']\n"
          ]
        }
      ],
      "source": [
        "# loaded_model = joblib.load('random_forest_model.pkl')\n",
        "\n",
        "# # 22.0\t3\t35797.696\t33841.738\t146.2900\t1.038224\t12.1717\t1386.984\t0.023739\t0\n",
        "\n",
        "# input_data = {\n",
        "#     'OBJECT_AGE': [22.0],  # Replace with your input values\n",
        "#     'APOAPSIS': [35797.696],\n",
        "#     'PERIAPSIS': [33841.738],\n",
        "#     'MEAN_ANOMALY': [146.2900],\n",
        "#     'MEAN_MOTION': [1.038224],\n",
        "#     'INCLINATION': [12.1717],\n",
        "#     'PERIOD': [1386.984],\n",
        "#     'ECCENTRICITY': [0.023739]\n",
        "# }\n",
        "\n",
        "# new_df = pd.DataFrame(input_data)\n",
        "\n",
        "# size_mapping = {1: 'SMALL', 2: 'MEDIUM', 3: 'LARGE'}\n",
        "\n",
        "# predictions = loaded_model.predict(new_df)\n",
        "\n",
        "# # Map numerical predictions to sizes\n",
        "# predicted_sizes = [size_mapping[pred] for pred in predictions]\n",
        "\n",
        "# # Display the predicted sizes for the input data\n",
        "# print(predicted_sizes)"
      ]
    },
    {
      "cell_type": "code",
      "execution_count": 35,
      "metadata": {
        "id": "bwkkQWV7epOF"
      },
      "outputs": [],
      "source": [
        "import pickle"
      ]
    },
    {
      "cell_type": "code",
      "execution_count": 36,
      "metadata": {},
      "outputs": [],
      "source": [
        "data = {\n",
        "    'model': best_model,\n",
        "    'OBJECT_AGE': [22.0],  # Replace with your input values\n",
        "    'APOAPSIS': [35797.696],\n",
        "    'PERIAPSIS': [33841.738],\n",
        "    'MEAN_ANOMALY': [146.2900],\n",
        "    'MEAN_MOTION': [1.038224],\n",
        "    'INCLINATION': [12.1717],\n",
        "    'PERIOD': [1386.984],\n",
        "    'ECCENTRICITY': [0.023739]\n",
        "}\n",
        "with open('randomforestmodel.pkl', 'wb') as file:\n",
        "    pickle.dump(data, file)"
      ]
    },
    {
      "cell_type": "code",
      "execution_count": 37,
      "metadata": {},
      "outputs": [],
      "source": [
        "with open('randomforestmodel.pkl', 'rb') as file:\n",
        "    data = pickle.load(file)\n",
        "\n",
        "best_model= data[\"model\"]\n",
        "object_age = data[\"OBJECT_AGE\"]\n",
        "apoapsis = data[\"APOAPSIS\"]\n",
        "periapsis = data[\"PERIAPSIS\"]\n",
        "mean_anomaly= data[\"MEAN_ANOMALY\"]\n",
        "mean_motion= data[\"MEAN_MOTION\"]\n",
        "inclination= data[\"INCLINATION\"]\n",
        "period= data[\"PERIOD\"]\n",
        "eccentricity= data[\"ECCENTRICITY\"]\n"
      ]
    },
    {
      "cell_type": "code",
      "execution_count": 38,
      "metadata": {},
      "outputs": [
        {
          "data": {
            "text/plain": [
              "array([2, 1, 3, ..., 3, 3, 3], dtype=int64)"
            ]
          },
          "execution_count": 38,
          "metadata": {},
          "output_type": "execute_result"
        }
      ],
      "source": [
        "y_pred = best_model.predict(X)\n",
        "y_pred"
      ]
    },
    {
      "cell_type": "code",
      "execution_count": null,
      "metadata": {},
      "outputs": [],
      "source": []
    }
  ],
  "metadata": {
    "colab": {
      "provenance": []
    },
    "kernelspec": {
      "display_name": "Python 3",
      "name": "python3"
    },
    "language_info": {
      "codemirror_mode": {
        "name": "ipython",
        "version": 3
      },
      "file_extension": ".py",
      "mimetype": "text/x-python",
      "name": "python",
      "nbconvert_exporter": "python",
      "pygments_lexer": "ipython3",
      "version": "3.11.7"
    }
  },
  "nbformat": 4,
  "nbformat_minor": 0
}

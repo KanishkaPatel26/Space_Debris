{
  "cells": [
    {
      "cell_type": "code",
      "execution_count": 3,
      "metadata": {
        "id": "R7LLPBaQRTn4"
      },
      "outputs": [
        {
          "ename": "ModuleNotFoundError",
          "evalue": "No module named 'matplotlib'",
          "output_type": "error",
          "traceback": [
            "\u001b[1;31m---------------------------------------------------------------------------\u001b[0m",
            "\u001b[1;31mModuleNotFoundError\u001b[0m                       Traceback (most recent call last)",
            "Cell \u001b[1;32mIn[3], line 4\u001b[0m\n\u001b[0;32m      2\u001b[0m \u001b[38;5;28;01mimport\u001b[39;00m \u001b[38;5;21;01mnumpy\u001b[39;00m \u001b[38;5;28;01mas\u001b[39;00m \u001b[38;5;21;01mnp\u001b[39;00m\n\u001b[0;32m      3\u001b[0m \u001b[38;5;28;01mfrom\u001b[39;00m \u001b[38;5;21;01msklearn\u001b[39;00m\u001b[38;5;21;01m.\u001b[39;00m\u001b[38;5;21;01mpreprocessing\u001b[39;00m \u001b[38;5;28;01mimport\u001b[39;00m StandardScaler\n\u001b[1;32m----> 4\u001b[0m \u001b[38;5;28;01mimport\u001b[39;00m \u001b[38;5;21;01mmatplotlib\u001b[39;00m\u001b[38;5;21;01m.\u001b[39;00m\u001b[38;5;21;01mpyplot\u001b[39;00m \u001b[38;5;28;01mas\u001b[39;00m \u001b[38;5;21;01mplt\u001b[39;00m\n\u001b[0;32m      5\u001b[0m \u001b[38;5;28;01mfrom\u001b[39;00m \u001b[38;5;21;01msklearn\u001b[39;00m\u001b[38;5;21;01m.\u001b[39;00m\u001b[38;5;21;01mdecomposition\u001b[39;00m \u001b[38;5;28;01mimport\u001b[39;00m PCA\n\u001b[0;32m      6\u001b[0m \u001b[38;5;28;01mfrom\u001b[39;00m \u001b[38;5;21;01msklearn\u001b[39;00m\u001b[38;5;21;01m.\u001b[39;00m\u001b[38;5;21;01mpreprocessing\u001b[39;00m \u001b[38;5;28;01mimport\u001b[39;00m StandardScaler\n",
            "\u001b[1;31mModuleNotFoundError\u001b[0m: No module named 'matplotlib'"
          ]
        }
      ],
      "source": [
        "import pandas as pd\n",
        "import numpy as np\n",
        "from sklearn.preprocessing import StandardScaler\n",
        "import matplotlib.pyplot as plt\n",
        "from sklearn.decomposition import PCA\n",
        "from sklearn.preprocessing import StandardScaler\n",
        "from sklearn.cluster import KMeans\n",
        "from sklearn.model_selection import train_test_split\n",
        "from sklearn.metrics import accuracy_score, classification_report, confusion_matrix, roc_curve, roc_auc_score\n",
        "from sklearn.linear_model import LogisticRegression\n",
        "from sklearn.ensemble import RandomForestClassifier, GradientBoostingClassifier\n",
        "from sklearn.svm import SVC\n",
        "import seaborn as sns\n",
        "from sklearn.model_selection import GridSearchCV\n",
        "from sklearn.metrics import accuracy_score, classification_report, confusion_matrix\n",
        "from sklearn.ensemble import RandomForestClassifier\n",
        "from sklearn.feature_selection import SelectKBest\n",
        "from sklearn.feature_selection import chi2\n",
        "from sklearn.preprocessing import MinMaxScaler\n",
        "import joblib"
      ]
    },
    {
      "cell_type": "code",
      "execution_count": null,
      "metadata": {
        "id": "VtZEKRaURU_2"
      },
      "outputs": [],
      "source": [
        "dataframe = pd.read_csv('space_decay.csv')"
      ]
    },
    {
      "cell_type": "code",
      "execution_count": null,
      "metadata": {
        "colab": {
          "base_uri": "https://localhost:8080/",
          "height": 335
        },
        "id": "Z1ocqCgwRZ6Q",
        "outputId": "f7a7cef1-3e3c-4ca3-9663-e4d71aca8e37"
      },
      "outputs": [
        {
          "data": {
            "text/html": [
              "<div>\n",
              "<style scoped>\n",
              "    .dataframe tbody tr th:only-of-type {\n",
              "        vertical-align: middle;\n",
              "    }\n",
              "\n",
              "    .dataframe tbody tr th {\n",
              "        vertical-align: top;\n",
              "    }\n",
              "\n",
              "    .dataframe thead th {\n",
              "        text-align: right;\n",
              "    }\n",
              "</style>\n",
              "<table border=\"1\" class=\"dataframe\">\n",
              "  <thead>\n",
              "    <tr style=\"text-align: right;\">\n",
              "      <th></th>\n",
              "      <th>CCSDS_OMM_VERS</th>\n",
              "      <th>COMMENT</th>\n",
              "      <th>CREATION_DATE</th>\n",
              "      <th>ORIGINATOR</th>\n",
              "      <th>OBJECT_NAME</th>\n",
              "      <th>OBJECT_ID</th>\n",
              "      <th>CENTER_NAME</th>\n",
              "      <th>REF_FRAME</th>\n",
              "      <th>TIME_SYSTEM</th>\n",
              "      <th>MEAN_ELEMENT_THEORY</th>\n",
              "      <th>...</th>\n",
              "      <th>RCS_SIZE</th>\n",
              "      <th>COUNTRY_CODE</th>\n",
              "      <th>LAUNCH_DATE</th>\n",
              "      <th>SITE</th>\n",
              "      <th>DECAY_DATE</th>\n",
              "      <th>FILE</th>\n",
              "      <th>GP_ID</th>\n",
              "      <th>TLE_LINE0</th>\n",
              "      <th>TLE_LINE1</th>\n",
              "      <th>TLE_LINE2</th>\n",
              "    </tr>\n",
              "  </thead>\n",
              "  <tbody>\n",
              "    <tr>\n",
              "      <th>0</th>\n",
              "      <td>2</td>\n",
              "      <td>GENERATED VIA SPACE-TRACK.ORG API</td>\n",
              "      <td>2021-11-01T06:46:11</td>\n",
              "      <td>18 SPCS</td>\n",
              "      <td>ARIANE 42P+ DEB</td>\n",
              "      <td>1992-072J</td>\n",
              "      <td>EARTH</td>\n",
              "      <td>TEME</td>\n",
              "      <td>UTC</td>\n",
              "      <td>SGP4</td>\n",
              "      <td>...</td>\n",
              "      <td>MEDIUM</td>\n",
              "      <td>FR</td>\n",
              "      <td>1992.0</td>\n",
              "      <td>FRGUI</td>\n",
              "      <td>NaN</td>\n",
              "      <td>3195178</td>\n",
              "      <td>188614016</td>\n",
              "      <td>0 ARIANE 42P+ DEB</td>\n",
              "      <td>1 26741U 92072J   21304.94919376  .00000883  0...</td>\n",
              "      <td>2 26741   7.7156  90.2410 6528926 243.1216  38...</td>\n",
              "    </tr>\n",
              "    <tr>\n",
              "      <th>1</th>\n",
              "      <td>2</td>\n",
              "      <td>GENERATED VIA SPACE-TRACK.ORG API</td>\n",
              "      <td>2021-11-01T04:58:37</td>\n",
              "      <td>18 SPCS</td>\n",
              "      <td>SL-8 DEB</td>\n",
              "      <td>1979-028C</td>\n",
              "      <td>EARTH</td>\n",
              "      <td>TEME</td>\n",
              "      <td>UTC</td>\n",
              "      <td>SGP4</td>\n",
              "      <td>...</td>\n",
              "      <td>SMALL</td>\n",
              "      <td>CIS</td>\n",
              "      <td>1979.0</td>\n",
              "      <td>PKMTR</td>\n",
              "      <td>NaN</td>\n",
              "      <td>3194950</td>\n",
              "      <td>188593285</td>\n",
              "      <td>0 SL-8 DEB</td>\n",
              "      <td>1 26743U 79028C   21304.68908982  .00000079  0...</td>\n",
              "      <td>2 26743  82.9193 299.1120 0030720 158.9093 201...</td>\n",
              "    </tr>\n",
              "  </tbody>\n",
              "</table>\n",
              "<p>2 rows × 40 columns</p>\n",
              "</div>"
            ],
            "text/plain": [
              "   CCSDS_OMM_VERS                            COMMENT        CREATION_DATE  \\\n",
              "0               2  GENERATED VIA SPACE-TRACK.ORG API  2021-11-01T06:46:11   \n",
              "1               2  GENERATED VIA SPACE-TRACK.ORG API  2021-11-01T04:58:37   \n",
              "\n",
              "  ORIGINATOR      OBJECT_NAME  OBJECT_ID CENTER_NAME REF_FRAME TIME_SYSTEM  \\\n",
              "0    18 SPCS  ARIANE 42P+ DEB  1992-072J       EARTH      TEME         UTC   \n",
              "1    18 SPCS         SL-8 DEB  1979-028C       EARTH      TEME         UTC   \n",
              "\n",
              "  MEAN_ELEMENT_THEORY  ... RCS_SIZE  COUNTRY_CODE  LAUNCH_DATE   SITE  \\\n",
              "0                SGP4  ...   MEDIUM            FR       1992.0  FRGUI   \n",
              "1                SGP4  ...    SMALL           CIS       1979.0  PKMTR   \n",
              "\n",
              "   DECAY_DATE     FILE      GP_ID          TLE_LINE0  \\\n",
              "0         NaN  3195178  188614016  0 ARIANE 42P+ DEB   \n",
              "1         NaN  3194950  188593285         0 SL-8 DEB   \n",
              "\n",
              "                                           TLE_LINE1  \\\n",
              "0  1 26741U 92072J   21304.94919376  .00000883  0...   \n",
              "1  1 26743U 79028C   21304.68908982  .00000079  0...   \n",
              "\n",
              "                                           TLE_LINE2  \n",
              "0  2 26741   7.7156  90.2410 6528926 243.1216  38...  \n",
              "1  2 26743  82.9193 299.1120 0030720 158.9093 201...  \n",
              "\n",
              "[2 rows x 40 columns]"
            ]
          },
          "execution_count": 3,
          "metadata": {},
          "output_type": "execute_result"
        }
      ],
      "source": [
        "dataframe.head(2)"
      ]
    },
    {
      "cell_type": "code",
      "execution_count": null,
      "metadata": {
        "colab": {
          "base_uri": "https://localhost:8080/"
        },
        "id": "UVOTkylvBtZY",
        "outputId": "cdbfb93c-d48c-4b18-c4e7-59d5acc156b9"
      },
      "outputs": [
        {
          "data": {
            "text/plain": [
              "(14372, 40)"
            ]
          },
          "execution_count": 4,
          "metadata": {},
          "output_type": "execute_result"
        }
      ],
      "source": [
        "dataframe.shape"
      ]
    },
    {
      "cell_type": "code",
      "execution_count": null,
      "metadata": {
        "colab": {
          "base_uri": "https://localhost:8080/"
        },
        "id": "15Idd-MzBwUo",
        "outputId": "1fb06e10-2eb1-499c-b496-125d50d9de68"
      },
      "outputs": [
        {
          "data": {
            "text/plain": [
              "CCSDS_OMM_VERS           int64\n",
              "COMMENT                 object\n",
              "CREATION_DATE           object\n",
              "ORIGINATOR              object\n",
              "OBJECT_NAME             object\n",
              "OBJECT_ID               object\n",
              "CENTER_NAME             object\n",
              "REF_FRAME               object\n",
              "TIME_SYSTEM             object\n",
              "MEAN_ELEMENT_THEORY     object\n",
              "EPOCH                   object\n",
              "MEAN_MOTION            float64\n",
              "ECCENTRICITY           float64\n",
              "INCLINATION            float64\n",
              "RA_OF_ASC_NODE         float64\n",
              "ARG_OF_PERICENTER      float64\n",
              "MEAN_ANOMALY           float64\n",
              "EPHEMERIS_TYPE           int64\n",
              "CLASSIFICATION_TYPE     object\n",
              "NORAD_CAT_ID             int64\n",
              "ELEMENT_SET_NO           int64\n",
              "REV_AT_EPOCH             int64\n",
              "BSTAR                  float64\n",
              "MEAN_MOTION_DOT        float64\n",
              "MEAN_MOTION_DDOT       float64\n",
              "SEMIMAJOR_AXIS         float64\n",
              "PERIOD                 float64\n",
              "APOAPSIS               float64\n",
              "PERIAPSIS              float64\n",
              "OBJECT_TYPE             object\n",
              "RCS_SIZE                object\n",
              "COUNTRY_CODE            object\n",
              "LAUNCH_DATE            float64\n",
              "SITE                    object\n",
              "DECAY_DATE             float64\n",
              "FILE                     int64\n",
              "GP_ID                    int64\n",
              "TLE_LINE0               object\n",
              "TLE_LINE1               object\n",
              "TLE_LINE2               object\n",
              "dtype: object"
            ]
          },
          "execution_count": 5,
          "metadata": {},
          "output_type": "execute_result"
        }
      ],
      "source": [
        "dataframe.dtypes"
      ]
    },
    {
      "cell_type": "code",
      "execution_count": null,
      "metadata": {
        "colab": {
          "base_uri": "https://localhost:8080/"
        },
        "id": "ExeskYJaB1lg",
        "outputId": "e180c3c4-ea9e-4f4f-fd13-3c4ea8dd2349"
      },
      "outputs": [
        {
          "data": {
            "text/plain": [
              "CCSDS_OMM_VERS             0\n",
              "COMMENT                    0\n",
              "CREATION_DATE              0\n",
              "ORIGINATOR                 0\n",
              "OBJECT_NAME                0\n",
              "OBJECT_ID                 39\n",
              "CENTER_NAME                0\n",
              "REF_FRAME                  0\n",
              "TIME_SYSTEM                0\n",
              "MEAN_ELEMENT_THEORY        0\n",
              "EPOCH                      0\n",
              "MEAN_MOTION                0\n",
              "ECCENTRICITY               0\n",
              "INCLINATION                0\n",
              "RA_OF_ASC_NODE             0\n",
              "ARG_OF_PERICENTER          0\n",
              "MEAN_ANOMALY               0\n",
              "EPHEMERIS_TYPE             0\n",
              "CLASSIFICATION_TYPE        0\n",
              "NORAD_CAT_ID               0\n",
              "ELEMENT_SET_NO             0\n",
              "REV_AT_EPOCH               0\n",
              "BSTAR                      0\n",
              "MEAN_MOTION_DOT            0\n",
              "MEAN_MOTION_DDOT           0\n",
              "SEMIMAJOR_AXIS             0\n",
              "PERIOD                     0\n",
              "APOAPSIS                   0\n",
              "PERIAPSIS                  0\n",
              "OBJECT_TYPE                0\n",
              "RCS_SIZE                 198\n",
              "COUNTRY_CODE              39\n",
              "LAUNCH_DATE               39\n",
              "SITE                      39\n",
              "DECAY_DATE             14372\n",
              "FILE                       0\n",
              "GP_ID                      0\n",
              "TLE_LINE0                  0\n",
              "TLE_LINE1                  0\n",
              "TLE_LINE2                  0\n",
              "dtype: int64"
            ]
          },
          "execution_count": 6,
          "metadata": {},
          "output_type": "execute_result"
        }
      ],
      "source": [
        "dataframe.isna().sum()"
      ]
    },
    {
      "cell_type": "code",
      "execution_count": null,
      "metadata": {
        "id": "odC1MLfrB5V2"
      },
      "outputs": [],
      "source": [
        "dataframe = dataframe.drop(columns = ['DECAY_DATE'])"
      ]
    },
    {
      "cell_type": "code",
      "execution_count": null,
      "metadata": {
        "colab": {
          "base_uri": "https://localhost:8080/"
        },
        "id": "AJCFnhScCYw7",
        "outputId": "74fb4689-ac81-4b62-aae7-d2e9e2996d4a"
      },
      "outputs": [
        {
          "data": {
            "text/plain": [
              "array(['MEDIUM', 'SMALL', 'LARGE', nan], dtype=object)"
            ]
          },
          "execution_count": 8,
          "metadata": {},
          "output_type": "execute_result"
        }
      ],
      "source": [
        "dataframe['RCS_SIZE'].unique()"
      ]
    },
    {
      "cell_type": "code",
      "execution_count": null,
      "metadata": {
        "id": "fjPRRmNICi-J"
      },
      "outputs": [],
      "source": [
        "dataframe = dataframe[dataframe['RCS_SIZE'].notna()]"
      ]
    },
    {
      "cell_type": "code",
      "execution_count": null,
      "metadata": {
        "colab": {
          "base_uri": "https://localhost:8080/"
        },
        "id": "_j6kMnX2CrO-",
        "outputId": "635aa655-9584-4e9e-fcee-9acf44a170bd"
      },
      "outputs": [
        {
          "data": {
            "text/plain": [
              "CCSDS_OMM_VERS           int64\n",
              "COMMENT                 object\n",
              "CREATION_DATE           object\n",
              "ORIGINATOR              object\n",
              "OBJECT_NAME             object\n",
              "OBJECT_ID               object\n",
              "CENTER_NAME             object\n",
              "REF_FRAME               object\n",
              "TIME_SYSTEM             object\n",
              "MEAN_ELEMENT_THEORY     object\n",
              "EPOCH                   object\n",
              "MEAN_MOTION            float64\n",
              "ECCENTRICITY           float64\n",
              "INCLINATION            float64\n",
              "RA_OF_ASC_NODE         float64\n",
              "ARG_OF_PERICENTER      float64\n",
              "MEAN_ANOMALY           float64\n",
              "EPHEMERIS_TYPE           int64\n",
              "CLASSIFICATION_TYPE     object\n",
              "NORAD_CAT_ID             int64\n",
              "ELEMENT_SET_NO           int64\n",
              "REV_AT_EPOCH             int64\n",
              "BSTAR                  float64\n",
              "MEAN_MOTION_DOT        float64\n",
              "MEAN_MOTION_DDOT       float64\n",
              "SEMIMAJOR_AXIS         float64\n",
              "PERIOD                 float64\n",
              "APOAPSIS               float64\n",
              "PERIAPSIS              float64\n",
              "OBJECT_TYPE             object\n",
              "RCS_SIZE                object\n",
              "COUNTRY_CODE            object\n",
              "LAUNCH_DATE            float64\n",
              "SITE                    object\n",
              "FILE                     int64\n",
              "GP_ID                    int64\n",
              "TLE_LINE0               object\n",
              "TLE_LINE1               object\n",
              "TLE_LINE2               object\n",
              "dtype: object"
            ]
          },
          "execution_count": 10,
          "metadata": {},
          "output_type": "execute_result"
        }
      ],
      "source": [
        "dataframe.dtypes"
      ]
    },
    {
      "cell_type": "code",
      "execution_count": null,
      "metadata": {
        "colab": {
          "base_uri": "https://localhost:8080/",
          "height": 300
        },
        "id": "bXHtw8zfHvZD",
        "outputId": "92026ea2-6ebe-40d8-cd5b-b64cfc67bd0f"
      },
      "outputs": [
        {
          "data": {
            "text/html": [
              "<div>\n",
              "<style scoped>\n",
              "    .dataframe tbody tr th:only-of-type {\n",
              "        vertical-align: middle;\n",
              "    }\n",
              "\n",
              "    .dataframe tbody tr th {\n",
              "        vertical-align: top;\n",
              "    }\n",
              "\n",
              "    .dataframe thead th {\n",
              "        text-align: right;\n",
              "    }\n",
              "</style>\n",
              "<table border=\"1\" class=\"dataframe\">\n",
              "  <thead>\n",
              "    <tr style=\"text-align: right;\">\n",
              "      <th></th>\n",
              "      <th>ECCENTRICITY</th>\n",
              "      <th>INCLINATION</th>\n",
              "      <th>SEMIMAJOR_AXIS</th>\n",
              "    </tr>\n",
              "  </thead>\n",
              "  <tbody>\n",
              "    <tr>\n",
              "      <th>count</th>\n",
              "      <td>14174.000000</td>\n",
              "      <td>14174.000000</td>\n",
              "      <td>14174.000000</td>\n",
              "    </tr>\n",
              "    <tr>\n",
              "      <th>mean</th>\n",
              "      <td>0.063655</td>\n",
              "      <td>75.050788</td>\n",
              "      <td>10381.409239</td>\n",
              "    </tr>\n",
              "    <tr>\n",
              "      <th>std</th>\n",
              "      <td>0.178477</td>\n",
              "      <td>29.024966</td>\n",
              "      <td>8856.388961</td>\n",
              "    </tr>\n",
              "    <tr>\n",
              "      <th>min</th>\n",
              "      <td>0.000005</td>\n",
              "      <td>0.001400</td>\n",
              "      <td>6542.850000</td>\n",
              "    </tr>\n",
              "    <tr>\n",
              "      <th>25%</th>\n",
              "      <td>0.000701</td>\n",
              "      <td>53.055600</td>\n",
              "      <td>6953.224000</td>\n",
              "    </tr>\n",
              "    <tr>\n",
              "      <th>50%</th>\n",
              "      <td>0.003314</td>\n",
              "      <td>86.392850</td>\n",
              "      <td>7174.004000</td>\n",
              "    </tr>\n",
              "    <tr>\n",
              "      <th>75%</th>\n",
              "      <td>0.012941</td>\n",
              "      <td>98.578300</td>\n",
              "      <td>7433.195250</td>\n",
              "    </tr>\n",
              "    <tr>\n",
              "      <th>max</th>\n",
              "      <td>0.897218</td>\n",
              "      <td>144.586200</td>\n",
              "      <td>182331.558000</td>\n",
              "    </tr>\n",
              "  </tbody>\n",
              "</table>\n",
              "</div>"
            ],
            "text/plain": [
              "       ECCENTRICITY   INCLINATION  SEMIMAJOR_AXIS\n",
              "count  14174.000000  14174.000000    14174.000000\n",
              "mean       0.063655     75.050788    10381.409239\n",
              "std        0.178477     29.024966     8856.388961\n",
              "min        0.000005      0.001400     6542.850000\n",
              "25%        0.000701     53.055600     6953.224000\n",
              "50%        0.003314     86.392850     7174.004000\n",
              "75%        0.012941     98.578300     7433.195250\n",
              "max        0.897218    144.586200   182331.558000"
            ]
          },
          "execution_count": 11,
          "metadata": {},
          "output_type": "execute_result"
        }
      ],
      "source": [
        "    # eccentricity = row['ECCENTRICITY']\n",
        "    # inclination = row['INCLINATION']\n",
        "    # semi_major_axis = row['SEMIMAJOR_AXIS']\n",
        "\n",
        "dataframe[['ECCENTRICITY' , 'INCLINATION' , 'SEMIMAJOR_AXIS']].describe()"
      ]
    },
    {
      "cell_type": "markdown",
      "metadata": {
        "id": "ZLlwzSpyIcGp"
      },
      "source": [
        "https://space.stackexchange.com/questions/23450/determine-orbit-type-from-tle#:~:text=We%20can%20use%20the%20following,35%2C786km).\n"
      ]
    },
    {
      "cell_type": "code",
      "execution_count": null,
      "metadata": {
        "id": "2pfs--zrDGWo"
      },
      "outputs": [],
      "source": [
        "def categorize_orbit(row):\n",
        "    eccentricity = row['ECCENTRICITY']\n",
        "    mean_motion = row['MEAN_MOTION']\n",
        "    period = row['PERIOD']\n",
        "\n",
        "    if eccentricity > 0.25:\n",
        "        return 'HEO'  # Highly Elliptical Orbit\n",
        "    elif (0.99 <= mean_motion <= 1.01) and eccentricity < 0.01:\n",
        "        return 'GEO'  # Geostationary Orbit\n",
        "    elif (600 <= period <= 800) and eccentricity < 0.25:\n",
        "        return 'MEO'  # Medium Earth Orbit\n",
        "    elif mean_motion > 11.25 and eccentricity < 0.25:\n",
        "        return 'LEO'  # Low Earth Orbit\n",
        "    else:\n",
        "        return 'Other'\n",
        "\n",
        "dataframe['ORBIT_TYPE'] = dataframe.apply(categorize_orbit, axis=1)"
      ]
    },
    {
      "cell_type": "code",
      "execution_count": null,
      "metadata": {
        "colab": {
          "base_uri": "https://localhost:8080/"
        },
        "id": "3WhfSe3cG46q",
        "outputId": "4bffd104-7300-4571-c3fc-ba5d96ab5149"
      },
      "outputs": [
        {
          "data": {
            "text/plain": [
              "array(['HEO', 'LEO', 'Other', 'GEO', 'MEO'], dtype=object)"
            ]
          },
          "execution_count": 13,
          "metadata": {},
          "output_type": "execute_result"
        }
      ],
      "source": [
        "dataframe['ORBIT_TYPE'].unique()"
      ]
    },
    {
      "cell_type": "code",
      "execution_count": null,
      "metadata": {
        "colab": {
          "base_uri": "https://localhost:8080/"
        },
        "id": "F_E5KwM1G_6G",
        "outputId": "c1231aad-63b4-4776-e624-623bf6a97f3a"
      },
      "outputs": [
        {
          "name": "stdout",
          "output_type": "stream",
          "text": [
            "10160\n",
            "50240\n",
            "478200\n",
            "21760\n",
            "6600\n"
          ]
        }
      ],
      "source": [
        "print(dataframe[dataframe['ORBIT_TYPE'] == 'Other'].count().sum())\n",
        "print(dataframe[dataframe['ORBIT_TYPE'] == 'HEO'].count().sum())\n",
        "print(dataframe[dataframe['ORBIT_TYPE'] == 'LEO'].count().sum())\n",
        "print(dataframe[dataframe['ORBIT_TYPE'] == 'GEO'].count().sum())\n",
        "print(dataframe[dataframe['ORBIT_TYPE'] == 'MEO'].count().sum())"
      ]
    },
    {
      "cell_type": "code",
      "execution_count": null,
      "metadata": {
        "id": "0DbNomgoKRSH"
      },
      "outputs": [],
      "source": [
        "dataframe['CURRENT_YEAR'] = 2023\n",
        "dataframe[\"OBJECT_AGE\"] = dataframe.CURRENT_YEAR - dataframe.LAUNCH_DATE\n",
        "\n",
        "dataframe.RCS_SIZE = dataframe.RCS_SIZE.map({'SMALL':1, 'MEDIUM':2, 'LARGE':3})\n",
        "\n",
        "dataframe['ORBIT_TYPE_MAPPED'] = dataframe.ORBIT_TYPE.map({'Other':0, 'HEO':1, 'LEO':2, 'GEO':3, 'MEO':4})"
      ]
    },
    {
      "cell_type": "code",
      "execution_count": null,
      "metadata": {
        "colab": {
          "base_uri": "https://localhost:8080/",
          "height": 417
        },
        "id": "Qoz8SWKEHTlO",
        "outputId": "f65cdb59-a25e-4f7d-c22e-e5c979cd2fb8"
      },
      "outputs": [
        {
          "ename": "ValueError",
          "evalue": "could not convert string to float: 'HEO'",
          "output_type": "error",
          "traceback": [
            "\u001b[1;31m---------------------------------------------------------------------------\u001b[0m",
            "\u001b[1;31mValueError\u001b[0m                                Traceback (most recent call last)",
            "Cell \u001b[1;32mIn[16], line 3\u001b[0m\n\u001b[0;32m      1\u001b[0m dataframe[[\u001b[38;5;124m\"\u001b[39m\u001b[38;5;124mOBJECT_AGE\u001b[39m\u001b[38;5;124m\"\u001b[39m,\u001b[38;5;124m\"\u001b[39m\u001b[38;5;124mRCS_SIZE\u001b[39m\u001b[38;5;124m\"\u001b[39m,\u001b[38;5;124m\"\u001b[39m\u001b[38;5;124mAPOAPSIS\u001b[39m\u001b[38;5;124m\"\u001b[39m,\u001b[38;5;124m\"\u001b[39m\u001b[38;5;124mPERIAPSIS\u001b[39m\u001b[38;5;124m\"\u001b[39m,\u001b[38;5;124m\"\u001b[39m\u001b[38;5;124mMEAN_ANOMALY\u001b[39m\u001b[38;5;124m\"\u001b[39m,\u001b[38;5;124m\"\u001b[39m\u001b[38;5;124mMEAN_MOTION\u001b[39m\u001b[38;5;124m\"\u001b[39m,\n\u001b[0;32m      2\u001b[0m            \u001b[38;5;124m\"\u001b[39m\u001b[38;5;124mINCLINATION\u001b[39m\u001b[38;5;124m\"\u001b[39m,\u001b[38;5;124m\"\u001b[39m\u001b[38;5;124mPERIOD\u001b[39m\u001b[38;5;124m\"\u001b[39m,\u001b[38;5;124m\"\u001b[39m\u001b[38;5;124mECCENTRICITY\u001b[39m\u001b[38;5;124m\"\u001b[39m,\u001b[38;5;124m\"\u001b[39m\u001b[38;5;124mORBIT_TYPE\u001b[39m\u001b[38;5;124m\"\u001b[39m\n\u001b[1;32m----> 3\u001b[0m            ,\u001b[38;5;124m\"\u001b[39m\u001b[38;5;124mORBIT_TYPE_MAPPED\u001b[39m\u001b[38;5;124m\"\u001b[39m]]\u001b[38;5;241m.\u001b[39mcorr()\u001b[38;5;241m.\u001b[39mstyle\u001b[38;5;241m.\u001b[39mbackground_gradient()\n",
            "File \u001b[1;32m~\\AppData\\Roaming\\Python\\Python311\\site-packages\\pandas\\core\\frame.py:10707\u001b[0m, in \u001b[0;36mDataFrame.corr\u001b[1;34m(self, method, min_periods, numeric_only)\u001b[0m\n\u001b[0;32m  10705\u001b[0m cols \u001b[38;5;241m=\u001b[39m data\u001b[38;5;241m.\u001b[39mcolumns\n\u001b[0;32m  10706\u001b[0m idx \u001b[38;5;241m=\u001b[39m cols\u001b[38;5;241m.\u001b[39mcopy()\n\u001b[1;32m> 10707\u001b[0m mat \u001b[38;5;241m=\u001b[39m data\u001b[38;5;241m.\u001b[39mto_numpy(dtype\u001b[38;5;241m=\u001b[39m\u001b[38;5;28mfloat\u001b[39m, na_value\u001b[38;5;241m=\u001b[39mnp\u001b[38;5;241m.\u001b[39mnan, copy\u001b[38;5;241m=\u001b[39m\u001b[38;5;28;01mFalse\u001b[39;00m)\n\u001b[0;32m  10709\u001b[0m \u001b[38;5;28;01mif\u001b[39;00m method \u001b[38;5;241m==\u001b[39m \u001b[38;5;124m\"\u001b[39m\u001b[38;5;124mpearson\u001b[39m\u001b[38;5;124m\"\u001b[39m:\n\u001b[0;32m  10710\u001b[0m     correl \u001b[38;5;241m=\u001b[39m libalgos\u001b[38;5;241m.\u001b[39mnancorr(mat, minp\u001b[38;5;241m=\u001b[39mmin_periods)\n",
            "File \u001b[1;32m~\\AppData\\Roaming\\Python\\Python311\\site-packages\\pandas\\core\\frame.py:1892\u001b[0m, in \u001b[0;36mDataFrame.to_numpy\u001b[1;34m(self, dtype, copy, na_value)\u001b[0m\n\u001b[0;32m   1890\u001b[0m \u001b[38;5;28;01mif\u001b[39;00m dtype \u001b[38;5;129;01mis\u001b[39;00m \u001b[38;5;129;01mnot\u001b[39;00m \u001b[38;5;28;01mNone\u001b[39;00m:\n\u001b[0;32m   1891\u001b[0m     dtype \u001b[38;5;241m=\u001b[39m np\u001b[38;5;241m.\u001b[39mdtype(dtype)\n\u001b[1;32m-> 1892\u001b[0m result \u001b[38;5;241m=\u001b[39m \u001b[38;5;28mself\u001b[39m\u001b[38;5;241m.\u001b[39m_mgr\u001b[38;5;241m.\u001b[39mas_array(dtype\u001b[38;5;241m=\u001b[39mdtype, copy\u001b[38;5;241m=\u001b[39mcopy, na_value\u001b[38;5;241m=\u001b[39mna_value)\n\u001b[0;32m   1893\u001b[0m \u001b[38;5;28;01mif\u001b[39;00m result\u001b[38;5;241m.\u001b[39mdtype \u001b[38;5;129;01mis\u001b[39;00m \u001b[38;5;129;01mnot\u001b[39;00m dtype:\n\u001b[0;32m   1894\u001b[0m     result \u001b[38;5;241m=\u001b[39m np\u001b[38;5;241m.\u001b[39marray(result, dtype\u001b[38;5;241m=\u001b[39mdtype, copy\u001b[38;5;241m=\u001b[39m\u001b[38;5;28;01mFalse\u001b[39;00m)\n",
            "File \u001b[1;32m~\\AppData\\Roaming\\Python\\Python311\\site-packages\\pandas\\core\\internals\\managers.py:1656\u001b[0m, in \u001b[0;36mBlockManager.as_array\u001b[1;34m(self, dtype, copy, na_value)\u001b[0m\n\u001b[0;32m   1654\u001b[0m         arr\u001b[38;5;241m.\u001b[39mflags\u001b[38;5;241m.\u001b[39mwriteable \u001b[38;5;241m=\u001b[39m \u001b[38;5;28;01mFalse\u001b[39;00m\n\u001b[0;32m   1655\u001b[0m \u001b[38;5;28;01melse\u001b[39;00m:\n\u001b[1;32m-> 1656\u001b[0m     arr \u001b[38;5;241m=\u001b[39m \u001b[38;5;28mself\u001b[39m\u001b[38;5;241m.\u001b[39m_interleave(dtype\u001b[38;5;241m=\u001b[39mdtype, na_value\u001b[38;5;241m=\u001b[39mna_value)\n\u001b[0;32m   1657\u001b[0m     \u001b[38;5;66;03m# The underlying data was copied within _interleave, so no need\u001b[39;00m\n\u001b[0;32m   1658\u001b[0m     \u001b[38;5;66;03m# to further copy if copy=True or setting na_value\u001b[39;00m\n\u001b[0;32m   1660\u001b[0m \u001b[38;5;28;01mif\u001b[39;00m na_value \u001b[38;5;129;01mis\u001b[39;00m lib\u001b[38;5;241m.\u001b[39mno_default:\n",
            "File \u001b[1;32m~\\AppData\\Roaming\\Python\\Python311\\site-packages\\pandas\\core\\internals\\managers.py:1715\u001b[0m, in \u001b[0;36mBlockManager._interleave\u001b[1;34m(self, dtype, na_value)\u001b[0m\n\u001b[0;32m   1713\u001b[0m     \u001b[38;5;28;01melse\u001b[39;00m:\n\u001b[0;32m   1714\u001b[0m         arr \u001b[38;5;241m=\u001b[39m blk\u001b[38;5;241m.\u001b[39mget_values(dtype)\n\u001b[1;32m-> 1715\u001b[0m     result[rl\u001b[38;5;241m.\u001b[39mindexer] \u001b[38;5;241m=\u001b[39m arr\n\u001b[0;32m   1716\u001b[0m     itemmask[rl\u001b[38;5;241m.\u001b[39mindexer] \u001b[38;5;241m=\u001b[39m \u001b[38;5;241m1\u001b[39m\n\u001b[0;32m   1718\u001b[0m \u001b[38;5;28;01mif\u001b[39;00m \u001b[38;5;129;01mnot\u001b[39;00m itemmask\u001b[38;5;241m.\u001b[39mall():\n",
            "\u001b[1;31mValueError\u001b[0m: could not convert string to float: 'HEO'"
          ]
        }
      ],
      "source": [
        "dataframe[[\"OBJECT_AGE\",\"RCS_SIZE\",\"APOAPSIS\",\"PERIAPSIS\",\"MEAN_ANOMALY\",\"MEAN_MOTION\",\n",
        "           \"INCLINATION\",\"PERIOD\",\"ECCENTRICITY\",\"ORBIT_TYPE\"\n",
        "           ,\"ORBIT_TYPE_MAPPED\"]].corr().style.background_gradient()"
      ]
    },
    {
      "cell_type": "code",
      "execution_count": null,
      "metadata": {
        "id": "58GzT2hYJ5F4"
      },
      "outputs": [],
      "source": [
        "# finalAnalysisColumns = [\n",
        "# \"OBJECT_AGE\",\n",
        "# \"RCS_SIZE\",\n",
        "# \"APOAPSIS\",\n",
        "# \"PERIAPSIS\",\n",
        "# \"MEAN_ANOMALY\",\n",
        "# \"MEAN_MOTION\",\n",
        "# \"INCLINATION\",\n",
        "# \"PERIOD\",\n",
        "# \"ECCENTRICITY\",\n",
        "# \"ORBIT_TYPE_MAPPED\"]\n",
        "\n",
        "# columnsForSize = [\"OBJECT_AGE\",\"APOAPSIS\",\"PERIAPSIS\",\"PERIOD\",\"ECCENTRICITY\"]"
      ]
    },
    {
      "cell_type": "code",
      "execution_count": null,
      "metadata": {
        "id": "0XKBDo3aL8P4"
      },
      "outputs": [],
      "source": [
        "# dataframe = dataframe[finalAnalysisColumns]"
      ]
    },
    {
      "cell_type": "code",
      "execution_count": null,
      "metadata": {
        "colab": {
          "base_uri": "https://localhost:8080/",
          "height": 335
        },
        "id": "WdB7hHvhMtFb",
        "outputId": "75d4aa40-2a16-4947-8378-5a56d1991ee3"
      },
      "outputs": [
        {
          "data": {
            "text/html": [
              "<div>\n",
              "<style scoped>\n",
              "    .dataframe tbody tr th:only-of-type {\n",
              "        vertical-align: middle;\n",
              "    }\n",
              "\n",
              "    .dataframe tbody tr th {\n",
              "        vertical-align: top;\n",
              "    }\n",
              "\n",
              "    .dataframe thead th {\n",
              "        text-align: right;\n",
              "    }\n",
              "</style>\n",
              "<table border=\"1\" class=\"dataframe\">\n",
              "  <thead>\n",
              "    <tr style=\"text-align: right;\">\n",
              "      <th></th>\n",
              "      <th>CCSDS_OMM_VERS</th>\n",
              "      <th>COMMENT</th>\n",
              "      <th>CREATION_DATE</th>\n",
              "      <th>ORIGINATOR</th>\n",
              "      <th>OBJECT_NAME</th>\n",
              "      <th>OBJECT_ID</th>\n",
              "      <th>CENTER_NAME</th>\n",
              "      <th>REF_FRAME</th>\n",
              "      <th>TIME_SYSTEM</th>\n",
              "      <th>MEAN_ELEMENT_THEORY</th>\n",
              "      <th>...</th>\n",
              "      <th>SITE</th>\n",
              "      <th>FILE</th>\n",
              "      <th>GP_ID</th>\n",
              "      <th>TLE_LINE0</th>\n",
              "      <th>TLE_LINE1</th>\n",
              "      <th>TLE_LINE2</th>\n",
              "      <th>ORBIT_TYPE</th>\n",
              "      <th>CURRENT_YEAR</th>\n",
              "      <th>OBJECT_AGE</th>\n",
              "      <th>ORBIT_TYPE_MAPPED</th>\n",
              "    </tr>\n",
              "  </thead>\n",
              "  <tbody>\n",
              "    <tr>\n",
              "      <th>0</th>\n",
              "      <td>2</td>\n",
              "      <td>GENERATED VIA SPACE-TRACK.ORG API</td>\n",
              "      <td>2021-11-01T06:46:11</td>\n",
              "      <td>18 SPCS</td>\n",
              "      <td>ARIANE 42P+ DEB</td>\n",
              "      <td>1992-072J</td>\n",
              "      <td>EARTH</td>\n",
              "      <td>TEME</td>\n",
              "      <td>UTC</td>\n",
              "      <td>SGP4</td>\n",
              "      <td>...</td>\n",
              "      <td>FRGUI</td>\n",
              "      <td>3195178</td>\n",
              "      <td>188614016</td>\n",
              "      <td>0 ARIANE 42P+ DEB</td>\n",
              "      <td>1 26741U 92072J   21304.94919376  .00000883  0...</td>\n",
              "      <td>2 26741   7.7156  90.2410 6528926 243.1216  38...</td>\n",
              "      <td>HEO</td>\n",
              "      <td>2023</td>\n",
              "      <td>31.0</td>\n",
              "      <td>1</td>\n",
              "    </tr>\n",
              "    <tr>\n",
              "      <th>1</th>\n",
              "      <td>2</td>\n",
              "      <td>GENERATED VIA SPACE-TRACK.ORG API</td>\n",
              "      <td>2021-11-01T04:58:37</td>\n",
              "      <td>18 SPCS</td>\n",
              "      <td>SL-8 DEB</td>\n",
              "      <td>1979-028C</td>\n",
              "      <td>EARTH</td>\n",
              "      <td>TEME</td>\n",
              "      <td>UTC</td>\n",
              "      <td>SGP4</td>\n",
              "      <td>...</td>\n",
              "      <td>PKMTR</td>\n",
              "      <td>3194950</td>\n",
              "      <td>188593285</td>\n",
              "      <td>0 SL-8 DEB</td>\n",
              "      <td>1 26743U 79028C   21304.68908982  .00000079  0...</td>\n",
              "      <td>2 26743  82.9193 299.1120 0030720 158.9093 201...</td>\n",
              "      <td>LEO</td>\n",
              "      <td>2023</td>\n",
              "      <td>44.0</td>\n",
              "      <td>2</td>\n",
              "    </tr>\n",
              "  </tbody>\n",
              "</table>\n",
              "<p>2 rows × 43 columns</p>\n",
              "</div>"
            ],
            "text/plain": [
              "   CCSDS_OMM_VERS                            COMMENT        CREATION_DATE  \\\n",
              "0               2  GENERATED VIA SPACE-TRACK.ORG API  2021-11-01T06:46:11   \n",
              "1               2  GENERATED VIA SPACE-TRACK.ORG API  2021-11-01T04:58:37   \n",
              "\n",
              "  ORIGINATOR      OBJECT_NAME  OBJECT_ID CENTER_NAME REF_FRAME TIME_SYSTEM  \\\n",
              "0    18 SPCS  ARIANE 42P+ DEB  1992-072J       EARTH      TEME         UTC   \n",
              "1    18 SPCS         SL-8 DEB  1979-028C       EARTH      TEME         UTC   \n",
              "\n",
              "  MEAN_ELEMENT_THEORY  ...   SITE     FILE      GP_ID          TLE_LINE0  \\\n",
              "0                SGP4  ...  FRGUI  3195178  188614016  0 ARIANE 42P+ DEB   \n",
              "1                SGP4  ...  PKMTR  3194950  188593285         0 SL-8 DEB   \n",
              "\n",
              "                                           TLE_LINE1  \\\n",
              "0  1 26741U 92072J   21304.94919376  .00000883  0...   \n",
              "1  1 26743U 79028C   21304.68908982  .00000079  0...   \n",
              "\n",
              "                                           TLE_LINE2  ORBIT_TYPE  \\\n",
              "0  2 26741   7.7156  90.2410 6528926 243.1216  38...         HEO   \n",
              "1  2 26743  82.9193 299.1120 0030720 158.9093 201...         LEO   \n",
              "\n",
              "   CURRENT_YEAR OBJECT_AGE  ORBIT_TYPE_MAPPED  \n",
              "0          2023       31.0                  1  \n",
              "1          2023       44.0                  2  \n",
              "\n",
              "[2 rows x 43 columns]"
            ]
          },
          "execution_count": 17,
          "metadata": {},
          "output_type": "execute_result"
        }
      ],
      "source": [
        "dataframe.head(2)"
      ]
    },
    {
      "cell_type": "code",
      "execution_count": null,
      "metadata": {
        "colab": {
          "base_uri": "https://localhost:8080/"
        },
        "id": "XxAe1VGlXLeN",
        "outputId": "0446ab9b-b9c1-4152-efc4-fa3789778ee8"
      },
      "outputs": [
        {
          "data": {
            "text/plain": [
              "CCSDS_OMM_VERS           int64\n",
              "COMMENT                 object\n",
              "CREATION_DATE           object\n",
              "ORIGINATOR              object\n",
              "OBJECT_NAME             object\n",
              "OBJECT_ID               object\n",
              "CENTER_NAME             object\n",
              "REF_FRAME               object\n",
              "TIME_SYSTEM             object\n",
              "MEAN_ELEMENT_THEORY     object\n",
              "EPOCH                   object\n",
              "MEAN_MOTION            float64\n",
              "ECCENTRICITY           float64\n",
              "INCLINATION            float64\n",
              "RA_OF_ASC_NODE         float64\n",
              "ARG_OF_PERICENTER      float64\n",
              "MEAN_ANOMALY           float64\n",
              "EPHEMERIS_TYPE           int64\n",
              "CLASSIFICATION_TYPE     object\n",
              "NORAD_CAT_ID             int64\n",
              "ELEMENT_SET_NO           int64\n",
              "REV_AT_EPOCH             int64\n",
              "BSTAR                  float64\n",
              "MEAN_MOTION_DOT        float64\n",
              "MEAN_MOTION_DDOT       float64\n",
              "SEMIMAJOR_AXIS         float64\n",
              "PERIOD                 float64\n",
              "APOAPSIS               float64\n",
              "PERIAPSIS              float64\n",
              "OBJECT_TYPE             object\n",
              "RCS_SIZE                 int64\n",
              "COUNTRY_CODE            object\n",
              "LAUNCH_DATE            float64\n",
              "SITE                    object\n",
              "FILE                     int64\n",
              "GP_ID                    int64\n",
              "TLE_LINE0               object\n",
              "TLE_LINE1               object\n",
              "TLE_LINE2               object\n",
              "ORBIT_TYPE              object\n",
              "CURRENT_YEAR             int64\n",
              "OBJECT_AGE             float64\n",
              "ORBIT_TYPE_MAPPED        int64\n",
              "dtype: object"
            ]
          },
          "execution_count": 18,
          "metadata": {},
          "output_type": "execute_result"
        }
      ],
      "source": [
        "dataframe.dtypes"
      ]
    },
    {
      "cell_type": "code",
      "execution_count": null,
      "metadata": {
        "colab": {
          "base_uri": "https://localhost:8080/"
        },
        "id": "v1wamYCPYO90",
        "outputId": "65548d70-6a97-41b2-846f-2051b36a679c"
      },
      "outputs": [
        {
          "name": "stdout",
          "output_type": "stream",
          "text": [
            "           Feature        Score\n",
            "10    REV_AT_EPOCH  1058.298533\n",
            "22      OBJECT_AGE  1019.092773\n",
            "17       PERIAPSIS   758.029669\n",
            "2     ECCENTRICITY   606.767950\n",
            "18     LAUNCH_DATE   389.286643\n",
            "3      INCLINATION   366.204790\n",
            "14  SEMIMAJOR_AXIS   233.545600\n",
            "8     NORAD_CAT_ID   232.078304\n",
            "16        APOAPSIS   167.624081\n",
            "1      MEAN_MOTION   164.510244\n"
          ]
        }
      ],
      "source": [
        "numeric_columns = dataframe.select_dtypes(include=['int64', 'float64'])\n",
        "\n",
        "numeric_columns = numeric_columns.drop(['ORBIT_TYPE_MAPPED'], axis=1)\n",
        "\n",
        "numeric_columns = numeric_columns.abs()\n",
        "\n",
        "X = numeric_columns.drop('RCS_SIZE', axis=1)\n",
        "y = dataframe['RCS_SIZE']\n",
        "\n",
        "scaler = MinMaxScaler()\n",
        "X_scaled = scaler.fit_transform(X)\n",
        "\n",
        "best_features = SelectKBest(score_func=chi2, k='all')\n",
        "fit = best_features.fit(X_scaled, y)\n",
        "\n",
        "feature_scores = pd.DataFrame({'Feature': X.columns, 'Score': fit.scores_})\n",
        "best_features = feature_scores.nlargest(10, 'Score')\n",
        "\n",
        "print(best_features)"
      ]
    },
    {
      "cell_type": "code",
      "execution_count": null,
      "metadata": {
        "colab": {
          "base_uri": "https://localhost:8080/",
          "height": 807
        },
        "id": "Dj2U4CPmY8Nt",
        "outputId": "c486ae76-2049-49bc-a4a4-b32367ef8665"
      },
      "outputs": [
        {
          "name": "stdout",
          "output_type": "stream",
          "text": [
            "Accuracy: 1.0\n",
            "Classification Report:\n",
            "               precision    recall  f1-score   support\n",
            "\n",
            "           0       1.00      1.00      1.00        53\n",
            "           1       1.00      1.00      1.00       244\n",
            "           2       1.00      1.00      1.00      2392\n",
            "           3       1.00      1.00      1.00       118\n",
            "           4       1.00      1.00      1.00        28\n",
            "\n",
            "    accuracy                           1.00      2835\n",
            "   macro avg       1.00      1.00      1.00      2835\n",
            "weighted avg       1.00      1.00      1.00      2835\n",
            "\n"
          ]
        },
        {
          "data": {
            "image/png": "[encoded data removed]",
            "text/plain": [
              "<Figure size 800x600 with 1 Axes>"
            ]
          },
          "metadata": {},
          "output_type": "display_data"
        }
      ],
      "source": [
        "X = dataframe[['ECCENTRICITY', 'MEAN_MOTION', 'PERIOD']]\n",
        "y = dataframe['ORBIT_TYPE_MAPPED']\n",
        "\n",
        "X_train, X_test, y_train, y_test = train_test_split(X, y, test_size=0.2, random_state=42)\n",
        "\n",
        "classifier = RandomForestClassifier(random_state=42)\n",
        "\n",
        "classifier.fit(X_train, y_train)\n",
        "\n",
        "y_pred = classifier.predict(X_test)\n",
        "\n",
        "accuracy = accuracy_score(y_test, y_pred)\n",
        "print(\"Accuracy:\", accuracy)\n",
        "\n",
        "class_report = classification_report(y_test, y_pred)\n",
        "print(\"Classification Report:\\n\", class_report)\n",
        "\n",
        "conf_matrix = confusion_matrix(y_test, y_pred)\n",
        "\n",
        "plt.figure(figsize=(8, 6))\n",
        "sns.heatmap(conf_matrix, annot=True, cmap='Blues', fmt='g', cbar=False)\n",
        "plt.xlabel('Predicted')\n",
        "plt.ylabel('Actual')\n",
        "plt.title('Confusion Matrix')\n",
        "plt.show()"
      ]
    },
    {
      "cell_type": "code",
      "execution_count": null,
      "metadata": {},
      "outputs": [
        {
          "data": {
            "text/html": [
              "<div>\n",
              "<style scoped>\n",
              "    .dataframe tbody tr th:only-of-type {\n",
              "        vertical-align: middle;\n",
              "    }\n",
              "\n",
              "    .dataframe tbody tr th {\n",
              "        vertical-align: top;\n",
              "    }\n",
              "\n",
              "    .dataframe thead th {\n",
              "        text-align: right;\n",
              "    }\n",
              "</style>\n",
              "<table border=\"1\" class=\"dataframe\">\n",
              "  <thead>\n",
              "    <tr style=\"text-align: right;\">\n",
              "      <th></th>\n",
              "      <th>ECCENTRICITY</th>\n",
              "      <th>MEAN_MOTION</th>\n",
              "      <th>PERIOD</th>\n",
              "    </tr>\n",
              "  </thead>\n",
              "  <tbody>\n",
              "    <tr>\n",
              "      <th>0</th>\n",
              "      <td>0.652893</td>\n",
              "      <td>2.921700</td>\n",
              "      <td>492.864</td>\n",
              "    </tr>\n",
              "    <tr>\n",
              "      <th>1</th>\n",
              "      <td>0.003072</td>\n",
              "      <td>13.754973</td>\n",
              "      <td>104.689</td>\n",
              "    </tr>\n",
              "    <tr>\n",
              "      <th>2</th>\n",
              "      <td>0.023739</td>\n",
              "      <td>1.038224</td>\n",
              "      <td>1386.984</td>\n",
              "    </tr>\n",
              "    <tr>\n",
              "      <th>3</th>\n",
              "      <td>0.006062</td>\n",
              "      <td>14.775907</td>\n",
              "      <td>97.456</td>\n",
              "    </tr>\n",
              "    <tr>\n",
              "      <th>4</th>\n",
              "      <td>0.006226</td>\n",
              "      <td>14.724482</td>\n",
              "      <td>97.796</td>\n",
              "    </tr>\n",
              "  </tbody>\n",
              "</table>\n",
              "</div>"
            ],
            "text/plain": [
              "   ECCENTRICITY  MEAN_MOTION    PERIOD\n",
              "0      0.652893     2.921700   492.864\n",
              "1      0.003072    13.754973   104.689\n",
              "2      0.023739     1.038224  1386.984\n",
              "3      0.006062    14.775907    97.456\n",
              "4      0.006226    14.724482    97.796"
            ]
          },
          "execution_count": 55,
          "metadata": {},
          "output_type": "execute_result"
        }
      ],
      "source": [
        "X.head()"
      ]
    },
    {
      "cell_type": "code",
      "execution_count": null,
      "metadata": {},
      "outputs": [
        {
          "data": {
            "text/plain": [
              "array([['0.652893', '2.921700', '492.864']], dtype='<U8')"
            ]
          },
          "execution_count": 56,
          "metadata": {},
          "output_type": "execute_result"
        }
      ],
      "source": [
        "X = np.array([[\"0.652893\", '2.921700', '492.864' ]])\n",
        "X"
      ]
    },
    {
      "cell_type": "code",
      "execution_count": null,
      "metadata": {},
      "outputs": [
        {
          "name": "stderr",
          "output_type": "stream",
          "text": [
            "C:\\Users\\jahna\\AppData\\Roaming\\Python\\Python311\\site-packages\\sklearn\\base.py:465: UserWarning: X does not have valid feature names, but RandomForestClassifier was fitted with feature names\n",
            "  warnings.warn(\n"
          ]
        },
        {
          "data": {
            "text/plain": [
              "array([1], dtype=int64)"
            ]
          },
          "execution_count": 59,
          "metadata": {},
          "output_type": "execute_result"
        }
      ],
      "source": [
        "y_pred = classifier.predict(X)\n",
        "y_pred"
      ]
    },
    {
      "cell_type": "code",
      "execution_count": null,
      "metadata": {},
      "outputs": [
        {
          "data": {
            "text/plain": [
              "Index(['CCSDS_OMM_VERS', 'COMMENT', 'CREATION_DATE', 'ORIGINATOR',\n",
              "       'OBJECT_NAME', 'OBJECT_ID', 'CENTER_NAME', 'REF_FRAME', 'TIME_SYSTEM',\n",
              "       'MEAN_ELEMENT_THEORY', 'EPOCH', 'MEAN_MOTION', 'ECCENTRICITY',\n",
              "       'INCLINATION', 'RA_OF_ASC_NODE', 'ARG_OF_PERICENTER', 'MEAN_ANOMALY',\n",
              "       'EPHEMERIS_TYPE', 'CLASSIFICATION_TYPE', 'NORAD_CAT_ID',\n",
              "       'ELEMENT_SET_NO', 'REV_AT_EPOCH', 'BSTAR', 'MEAN_MOTION_DOT',\n",
              "       'MEAN_MOTION_DDOT', 'SEMIMAJOR_AXIS', 'PERIOD', 'APOAPSIS', 'PERIAPSIS',\n",
              "       'OBJECT_TYPE', 'RCS_SIZE', 'COUNTRY_CODE', 'LAUNCH_DATE', 'SITE',\n",
              "       'FILE', 'GP_ID', 'TLE_LINE0', 'TLE_LINE1', 'TLE_LINE2', 'ORBIT_TYPE',\n",
              "       'CURRENT_YEAR', 'OBJECT_AGE', 'ORBIT_TYPE_MAPPED'],\n",
              "      dtype='object')"
            ]
          },
          "execution_count": 27,
          "metadata": {},
          "output_type": "execute_result"
        }
      ],
      "source": [
        "dataframe.columns"
      ]
    },
    {
      "cell_type": "code",
      "execution_count": null,
      "metadata": {},
      "outputs": [
        {
          "data": {
            "text/plain": [
              "PERIOD\n",
              "95.592     1112\n",
              "95.593      203\n",
              "95.591      101\n",
              "100.403      68\n",
              "109.547      33\n",
              "           ... \n",
              "98.809        1\n",
              "95.934        1\n",
              "99.889        1\n",
              "98.751        1\n",
              "95.437        1\n",
              "Name: count, Length: 8935, dtype: int64"
            ]
          },
          "execution_count": 47,
          "metadata": {},
          "output_type": "execute_result"
        }
      ],
      "source": [
        "dataframe['PERIOD'].value_counts()"
      ]
    },
    {
      "cell_type": "code",
      "execution_count": null,
      "metadata": {},
      "outputs": [
        {
          "data": {
            "text/plain": [
              "array([1, 2, 0, ..., 0, 2, 2], dtype=int64)"
            ]
          },
          "execution_count": 34,
          "metadata": {},
          "output_type": "execute_result"
        }
      ],
      "source": [
        "y_pred = model.predict(X)\n",
        "y_pred"
      ]
    },
    {
      "cell_type": "code",
      "execution_count": null,
      "metadata": {
        "colab": {
          "base_uri": "https://localhost:8080/"
        },
        "id": "OYyT9-BsahKT",
        "outputId": "c0da27c7-2f4a-4351-829e-d522b2e80fa5"
      },
      "outputs": [
        {
          "data": {
            "text/plain": [
              "['orbit_classifier_model.pkl']"
            ]
          },
          "execution_count": 72,
          "metadata": {},
          "output_type": "execute_result"
        }
      ],
      "source": [
        "# joblib.dump(classifier, 'orbit_classifier_model.pkl')"
      ]
    },
    {
      "cell_type": "code",
      "execution_count": null,
      "metadata": {
        "colab": {
          "base_uri": "https://localhost:8080/"
        },
        "id": "Mf-LMhZ3bN_r",
        "outputId": "7f04cb34-3719-4f2e-eb2b-1dd56ae009f3"
      },
      "outputs": [
        {
          "name": "stdout",
          "output_type": "stream",
          "text": [
            "Predicted ORBIT_TYPE_MAPPED: 2\n",
            "Predicted Orbit Type: LEO\n"
          ]
        }
      ],
      "source": [
        "# loaded_classifier = joblib.load('orbit_classifier_model.pkl')\n",
        "\n",
        "# input_data = {\n",
        "#     'ECCENTRICITY': [1236],\n",
        "#     'MEAN_MOTION': [123.5],\n",
        "#     'PERIOD': [34]\n",
        "# }\n",
        "\n",
        "# input_df = pd.DataFrame(input_data)\n",
        "\n",
        "# predicted_class = loaded_classifier.predict(input_df)\n",
        "# print(\"Predicted ORBIT_TYPE_MAPPED:\", predicted_class[0])\n",
        "\n",
        "# orbit_type_map = {0: 'Other', 1: 'HEO', 2: 'LEO', 3: 'GEO', 4: 'MEO'}\n",
        "# predicted_orbit_type = orbit_type_map[predicted_class[0]]\n",
        "# print(\"Predicted Orbit Type:\", predicted_orbit_type)"
      ]
    },
    {
      "cell_type": "code",
      "execution_count": null,
      "metadata": {
        "id": "pTlrGRXhbYUR"
      },
      "outputs": [],
      "source": [
        "import pickle"
      ]
    },
    {
      "cell_type": "code",
      "execution_count": null,
      "metadata": {},
      "outputs": [],
      "source": [
        "data = {\n",
        "    'model':classifier,\n",
        "    'ECCENTRICITY': [1236],\n",
        "    'MEAN_MOTION': [123.5],\n",
        "    'PERIOD': [34]\n",
        "}"
      ]
    },
    {
      "cell_type": "code",
      "execution_count": null,
      "metadata": {},
      "outputs": [],
      "source": [
        "with open('orbitclassifier.pkl', 'wb') as file:\n",
        "    pickle.dump(data, file)"
      ]
    },
    {
      "cell_type": "code",
      "execution_count": null,
      "metadata": {},
      "outputs": [],
      "source": [
        "with open('orbitclassifier.pkl', 'rb') as file:\n",
        "    data = pickle.load(file)\n",
        "\n",
        "model= data[\"model\"]\n",
        "eccentricity= data[\"ECCENTRICITY\"]\n",
        "mean_motion= data[\"MEAN_MOTION\"]\n",
        "period= data[\"PERIOD\"]\n"
      ]
    },
    {
      "cell_type": "code",
      "execution_count": null,
      "metadata": {},
      "outputs": [
        {
          "data": {
            "text/plain": [
              "array([1, 2, 0, ..., 0, 2, 2], dtype=int64)"
            ]
          },
          "execution_count": 44,
          "metadata": {},
          "output_type": "execute_result"
        }
      ],
      "source": [
        "y_pred = model.predict(X)\n",
        "y_pred"
      ]
    },
    {
      "cell_type": "code",
      "execution_count": null,
      "metadata": {},
      "outputs": [],
      "source": []
    }
  ],
  "metadata": {
    "colab": {
      "provenance": []
    },
    "kernelspec": {
      "display_name": "Python 3",
      "name": "python3"
    },
    "language_info": {
      "codemirror_mode": {
        "name": "ipython",
        "version": 3
      },
      "file_extension": ".py",
      "mimetype": "text/x-python",
      "name": "python",
      "nbconvert_exporter": "python",
      "pygments_lexer": "ipython3",
      "version": "3.11.7"
    }
  },
  "nbformat": 4,
  "nbformat_minor": 0
}
